{
 "cells": [
  {
   "cell_type": "markdown",
   "metadata": {},
   "source": [
    "# Notebook 04 - TFIDF + Logistic Regression\n",
    "\n",
    "## Setup"
   ]
  },
  {
   "cell_type": "code",
   "execution_count": 117,
   "metadata": {},
   "outputs": [
    {
     "name": "stdout",
     "output_type": "stream",
     "text": [
      "The autoreload extension is already loaded. To reload it, use:\n",
      "  %reload_ext autoreload\n"
     ]
    }
   ],
   "source": [
    "# --- Configture Notebook ------\n",
    "# show all outputs of cell\n",
    "from IPython.core.interactiveshell import InteractiveShell\n",
    "\n",
    "InteractiveShell.ast_node_interactivity = \"all\"\n",
    "\n",
    "import black\n",
    "import jupyter_black\n",
    "\n",
    "jupyter_black.load(\n",
    "    lab=True,\n",
    "    line_length=100,\n",
    "    verbosity=\"DEBUG\",\n",
    "    target_version=black.TargetVersion.PY310,\n",
    ")\n",
    "\n",
    "# enable automatic reloading\n",
    "%load_ext autoreload\n",
    "%autoreload 2\n",
    "\n",
    "from pathlib import Path\n",
    "\n",
    "from pandas.core.base import PandasObject\n",
    "from arxiv_article_classifier.utils import display_fully\n",
    "\n",
    "PandasObject.display_fully = display_fully\n",
    "\n",
    "DATAFOLDER = Path().cwd().parent / \"data\"\n",
    "FIGUREFOLDER = Path().cwd().parent / \"reports\" / \"figures\""
   ]
  },
  {
   "cell_type": "code",
   "execution_count": 56,
   "metadata": {},
   "outputs": [],
   "source": [
    "DATAFOLDER_PROCESSED = DATAFOLDER / \"processed\" / \"tfidf-model\"\n",
    "\n",
    "from arxiv_article_classifier.data.load import load_processed_data, load_taxonomy\n",
    "\n",
    "from sklearn.feature_extraction.text import TfidfVectorizer\n",
    "from sklearn.linear_model import LogisticRegression\n",
    "from sklearn.metrics import classification_report\n",
    "from sklearn.multioutput import MultiOutputClassifier"
   ]
  },
  {
   "cell_type": "code",
   "execution_count": 57,
   "metadata": {},
   "outputs": [],
   "source": [
    "# load dataset\n",
    "(\n",
    "    (X_train, X_val, _, y_train, y_val, _),\n",
    "    labels,\n",
    ") = load_processed_data(DATAFOLDER_PROCESSED)\n",
    "\n",
    "# load taxonomy\n",
    "taxonomy = load_taxonomy(DATAFOLDER / \"raw\" / \"taxonomy.pkl\")"
   ]
  },
  {
   "cell_type": "code",
   "execution_count": 58,
   "metadata": {},
   "outputs": [],
   "source": [
    "vectorizer = TfidfVectorizer()\n",
    "\n",
    "X_train_tfidf = vectorizer.fit_transform(X_train)\n",
    "X_val_tfidf = vectorizer.transform(X_val)"
   ]
  },
  {
   "cell_type": "code",
   "execution_count": 116,
   "metadata": {},
   "outputs": [
    {
     "name": "stdout",
     "output_type": "stream",
     "text": [
      "Performance on Train\n",
      "              precision    recall  f1-score   support\n",
      "\n",
      "           0       0.91      0.71      0.80      2516\n",
      "           1       0.92      0.68      0.78      2471\n",
      "           2       0.89      0.52      0.66      1926\n",
      "           3       0.92      0.69      0.79      1829\n",
      "           4       0.84      0.57      0.68      5987\n",
      "           5       0.87      0.47      0.61      1800\n",
      "           6       0.95      0.68      0.79      2159\n",
      "           7       0.91      0.63      0.74      1831\n",
      "           8       0.98      0.81      0.88      1801\n",
      "           9       0.93      0.54      0.68      1900\n",
      "          10       0.86      0.40      0.55      2103\n",
      "          11       0.95      0.71      0.81      1831\n",
      "          12       0.89      0.48      0.62      2146\n",
      "          13       0.95      0.71      0.81      1804\n",
      "\n",
      "   micro avg       0.90      0.61      0.73     32104\n",
      "   macro avg       0.91      0.61      0.73     32104\n",
      "weighted avg       0.90      0.61      0.72     32104\n",
      " samples avg       0.73      0.65      0.67     32104\n",
      "\n",
      "Performance on Validation\n",
      "              precision    recall  f1-score   support\n",
      "\n",
      "           0       0.86      0.63      0.73       839\n",
      "           1       0.91      0.61      0.73       824\n",
      "           2       0.79      0.41      0.54       642\n",
      "           3       0.90      0.66      0.76       609\n",
      "           4       0.72      0.49      0.59      1995\n",
      "           5       0.79      0.43      0.56       600\n",
      "           6       0.92      0.65      0.76       720\n",
      "           7       0.88      0.58      0.70       611\n",
      "           8       0.97      0.80      0.87       601\n",
      "           9       0.89      0.51      0.65       634\n",
      "          10       0.73      0.33      0.45       701\n",
      "          11       0.90      0.64      0.75       610\n",
      "          12       0.81      0.44      0.57       716\n",
      "          13       0.92      0.67      0.77       601\n",
      "\n",
      "   micro avg       0.85      0.55      0.67     10703\n",
      "   macro avg       0.86      0.56      0.67     10703\n",
      "weighted avg       0.84      0.55      0.66     10703\n",
      " samples avg       0.66      0.59      0.60     10703\n",
      "\n"
     ]
    },
    {
     "name": "stderr",
     "output_type": "stream",
     "text": [
      "/home/walkenho/.cache/pypoetry/virtualenvs/arxiv-article-classifier-IjPt3q2a-py3.10/lib/python3.10/site-packages/sklearn/metrics/_classification.py:1469: UndefinedMetricWarning:\n",
      "\n",
      "Precision and F-score are ill-defined and being set to 0.0 in samples with no predicted labels. Use `zero_division` parameter to control this behavior.\n",
      "\n",
      "/home/walkenho/.cache/pypoetry/virtualenvs/arxiv-article-classifier-IjPt3q2a-py3.10/lib/python3.10/site-packages/sklearn/metrics/_classification.py:1469: UndefinedMetricWarning:\n",
      "\n",
      "Precision and F-score are ill-defined and being set to 0.0 in samples with no predicted labels. Use `zero_division` parameter to control this behavior.\n",
      "\n"
     ]
    }
   ],
   "source": [
    "clf = MultiOutputClassifier(LogisticRegression()).fit(X_train_tfidf, y_train)\n",
    "\n",
    "print(\"Performance on Train\")\n",
    "y_train_pred = clf.predict(X_train_tfidf)\n",
    "print(classification_report(y_train, list(y_train_pred)))\n",
    "\n",
    "print(\"Performance on Validation\")\n",
    "y_val_pred = clf.predict(X_val_tfidf)\n",
    "\n",
    "print(classification_report(y_val, list(y_val_pred)))"
   ]
  },
  {
   "cell_type": "markdown",
   "metadata": {},
   "source": [
    "Add some weight rebalancing to account for imbalanced data."
   ]
  },
  {
   "cell_type": "code",
   "execution_count": 60,
   "metadata": {},
   "outputs": [
    {
     "name": "stdout",
     "output_type": "stream",
     "text": [
      "Performance on Train\n",
      "              precision    recall  f1-score   support\n",
      "\n",
      "           0       0.74      0.99      0.85      2516\n",
      "           1       0.74      0.97      0.84      2471\n",
      "           2       0.60      0.98      0.75      1926\n",
      "           3       0.77      0.99      0.87      1829\n",
      "           4       0.69      0.86      0.76      5987\n",
      "           5       0.60      0.98      0.75      1800\n",
      "           6       0.77      0.99      0.86      2159\n",
      "           7       0.69      0.98      0.81      1831\n",
      "           8       0.93      1.00      0.96      1801\n",
      "           9       0.68      0.98      0.80      1900\n",
      "          10       0.57      0.98      0.72      2103\n",
      "          11       0.74      0.99      0.85      1831\n",
      "          12       0.59      0.97      0.73      2146\n",
      "          13       0.74      0.99      0.84      1804\n",
      "\n",
      "   micro avg       0.69      0.96      0.80     32104\n",
      "   macro avg       0.70      0.97      0.81     32104\n",
      "weighted avg       0.70      0.96      0.81     32104\n",
      " samples avg       0.76      0.97      0.82     32104\n",
      "\n",
      "Performance on Validation\n",
      "              precision    recall  f1-score   support\n",
      "\n",
      "           0       0.69      0.91      0.78       839\n",
      "           1       0.70      0.86      0.77       824\n",
      "           2       0.53      0.84      0.65       642\n",
      "           3       0.74      0.90      0.81       609\n",
      "           4       0.60      0.74      0.66      1995\n",
      "           5       0.51      0.80      0.62       600\n",
      "           6       0.71      0.89      0.79       720\n",
      "           7       0.61      0.88      0.72       611\n",
      "           8       0.91      0.95      0.93       601\n",
      "           9       0.60      0.81      0.69       634\n",
      "          10       0.44      0.75      0.56       701\n",
      "          11       0.65      0.87      0.75       610\n",
      "          12       0.48      0.81      0.61       716\n",
      "          13       0.66      0.91      0.77       601\n",
      "\n",
      "   micro avg       0.62      0.84      0.71     10703\n",
      "   macro avg       0.63      0.85      0.72     10703\n",
      "weighted avg       0.63      0.84      0.72     10703\n",
      " samples avg       0.67      0.87      0.72     10703\n",
      "\n"
     ]
    },
    {
     "name": "stderr",
     "output_type": "stream",
     "text": [
      "/home/walkenho/.cache/pypoetry/virtualenvs/arxiv-article-classifier-IjPt3q2a-py3.10/lib/python3.10/site-packages/sklearn/metrics/_classification.py:1469: UndefinedMetricWarning:\n",
      "\n",
      "Precision and F-score are ill-defined and being set to 0.0 in samples with no predicted labels. Use `zero_division` parameter to control this behavior.\n",
      "\n",
      "/home/walkenho/.cache/pypoetry/virtualenvs/arxiv-article-classifier-IjPt3q2a-py3.10/lib/python3.10/site-packages/sklearn/metrics/_classification.py:1469: UndefinedMetricWarning:\n",
      "\n",
      "Precision and F-score are ill-defined and being set to 0.0 in samples with no predicted labels. Use `zero_division` parameter to control this behavior.\n",
      "\n"
     ]
    }
   ],
   "source": [
    "clf = MultiOutputClassifier(LogisticRegression(class_weight=\"balanced\")).fit(X_train_tfidf, y_train)\n",
    "\n",
    "print(\"Performance on Train\")\n",
    "y_train_pred = clf.predict(X_train_tfidf)\n",
    "print(classification_report(y_train, list(y_train_pred)))\n",
    "\n",
    "print(\"Performance on Validation\")\n",
    "y_val_pred = clf.predict(X_val_tfidf)\n",
    "\n",
    "print(classification_report(y_val, list(y_val_pred)))"
   ]
  },
  {
   "cell_type": "code",
   "execution_count": 61,
   "metadata": {},
   "outputs": [
    {
     "data": {
      "application/vnd.plotly.v1+json": {
       "config": {
        "plotlyServerURL": "https://plot.ly"
       },
       "data": [
        {
         "alignmentgroup": "True",
         "hovertemplate": "n_tags=%{x}<br>n_instances_[%]=%{y}<extra></extra>",
         "legendgroup": "",
         "marker": {
          "color": "#636efa",
          "pattern": {
           "shape": ""
          }
         },
         "name": "",
         "offsetgroup": "",
         "orientation": "v",
         "showlegend": false,
         "textposition": "auto",
         "type": "bar",
         "x": [
          3,
          1,
          2,
          4,
          5,
          0
         ],
         "xaxis": "x",
         "y": [
          0.2011127697109513,
          0.3028904871760076,
          0.4266521916135161,
          0.048446193513366806,
          0.005563848554756412,
          0.015334509431401818
         ],
         "yaxis": "y"
        }
       ],
       "layout": {
        "barmode": "relative",
        "legend": {
         "tracegroupgap": 0
        },
        "margin": {
         "t": 60
        },
        "template": {
         "data": {
          "bar": [
           {
            "error_x": {
             "color": "#2a3f5f"
            },
            "error_y": {
             "color": "#2a3f5f"
            },
            "marker": {
             "line": {
              "color": "#E5ECF6",
              "width": 0.5
             },
             "pattern": {
              "fillmode": "overlay",
              "size": 10,
              "solidity": 0.2
             }
            },
            "type": "bar"
           }
          ],
          "barpolar": [
           {
            "marker": {
             "line": {
              "color": "#E5ECF6",
              "width": 0.5
             },
             "pattern": {
              "fillmode": "overlay",
              "size": 10,
              "solidity": 0.2
             }
            },
            "type": "barpolar"
           }
          ],
          "carpet": [
           {
            "aaxis": {
             "endlinecolor": "#2a3f5f",
             "gridcolor": "white",
             "linecolor": "white",
             "minorgridcolor": "white",
             "startlinecolor": "#2a3f5f"
            },
            "baxis": {
             "endlinecolor": "#2a3f5f",
             "gridcolor": "white",
             "linecolor": "white",
             "minorgridcolor": "white",
             "startlinecolor": "#2a3f5f"
            },
            "type": "carpet"
           }
          ],
          "choropleth": [
           {
            "colorbar": {
             "outlinewidth": 0,
             "ticks": ""
            },
            "type": "choropleth"
           }
          ],
          "contour": [
           {
            "colorbar": {
             "outlinewidth": 0,
             "ticks": ""
            },
            "colorscale": [
             [
              0,
              "#0d0887"
             ],
             [
              0.1111111111111111,
              "#46039f"
             ],
             [
              0.2222222222222222,
              "#7201a8"
             ],
             [
              0.3333333333333333,
              "#9c179e"
             ],
             [
              0.4444444444444444,
              "#bd3786"
             ],
             [
              0.5555555555555556,
              "#d8576b"
             ],
             [
              0.6666666666666666,
              "#ed7953"
             ],
             [
              0.7777777777777778,
              "#fb9f3a"
             ],
             [
              0.8888888888888888,
              "#fdca26"
             ],
             [
              1,
              "#f0f921"
             ]
            ],
            "type": "contour"
           }
          ],
          "contourcarpet": [
           {
            "colorbar": {
             "outlinewidth": 0,
             "ticks": ""
            },
            "type": "contourcarpet"
           }
          ],
          "heatmap": [
           {
            "colorbar": {
             "outlinewidth": 0,
             "ticks": ""
            },
            "colorscale": [
             [
              0,
              "#0d0887"
             ],
             [
              0.1111111111111111,
              "#46039f"
             ],
             [
              0.2222222222222222,
              "#7201a8"
             ],
             [
              0.3333333333333333,
              "#9c179e"
             ],
             [
              0.4444444444444444,
              "#bd3786"
             ],
             [
              0.5555555555555556,
              "#d8576b"
             ],
             [
              0.6666666666666666,
              "#ed7953"
             ],
             [
              0.7777777777777778,
              "#fb9f3a"
             ],
             [
              0.8888888888888888,
              "#fdca26"
             ],
             [
              1,
              "#f0f921"
             ]
            ],
            "type": "heatmap"
           }
          ],
          "heatmapgl": [
           {
            "colorbar": {
             "outlinewidth": 0,
             "ticks": ""
            },
            "colorscale": [
             [
              0,
              "#0d0887"
             ],
             [
              0.1111111111111111,
              "#46039f"
             ],
             [
              0.2222222222222222,
              "#7201a8"
             ],
             [
              0.3333333333333333,
              "#9c179e"
             ],
             [
              0.4444444444444444,
              "#bd3786"
             ],
             [
              0.5555555555555556,
              "#d8576b"
             ],
             [
              0.6666666666666666,
              "#ed7953"
             ],
             [
              0.7777777777777778,
              "#fb9f3a"
             ],
             [
              0.8888888888888888,
              "#fdca26"
             ],
             [
              1,
              "#f0f921"
             ]
            ],
            "type": "heatmapgl"
           }
          ],
          "histogram": [
           {
            "marker": {
             "pattern": {
              "fillmode": "overlay",
              "size": 10,
              "solidity": 0.2
             }
            },
            "type": "histogram"
           }
          ],
          "histogram2d": [
           {
            "colorbar": {
             "outlinewidth": 0,
             "ticks": ""
            },
            "colorscale": [
             [
              0,
              "#0d0887"
             ],
             [
              0.1111111111111111,
              "#46039f"
             ],
             [
              0.2222222222222222,
              "#7201a8"
             ],
             [
              0.3333333333333333,
              "#9c179e"
             ],
             [
              0.4444444444444444,
              "#bd3786"
             ],
             [
              0.5555555555555556,
              "#d8576b"
             ],
             [
              0.6666666666666666,
              "#ed7953"
             ],
             [
              0.7777777777777778,
              "#fb9f3a"
             ],
             [
              0.8888888888888888,
              "#fdca26"
             ],
             [
              1,
              "#f0f921"
             ]
            ],
            "type": "histogram2d"
           }
          ],
          "histogram2dcontour": [
           {
            "colorbar": {
             "outlinewidth": 0,
             "ticks": ""
            },
            "colorscale": [
             [
              0,
              "#0d0887"
             ],
             [
              0.1111111111111111,
              "#46039f"
             ],
             [
              0.2222222222222222,
              "#7201a8"
             ],
             [
              0.3333333333333333,
              "#9c179e"
             ],
             [
              0.4444444444444444,
              "#bd3786"
             ],
             [
              0.5555555555555556,
              "#d8576b"
             ],
             [
              0.6666666666666666,
              "#ed7953"
             ],
             [
              0.7777777777777778,
              "#fb9f3a"
             ],
             [
              0.8888888888888888,
              "#fdca26"
             ],
             [
              1,
              "#f0f921"
             ]
            ],
            "type": "histogram2dcontour"
           }
          ],
          "mesh3d": [
           {
            "colorbar": {
             "outlinewidth": 0,
             "ticks": ""
            },
            "type": "mesh3d"
           }
          ],
          "parcoords": [
           {
            "line": {
             "colorbar": {
              "outlinewidth": 0,
              "ticks": ""
             }
            },
            "type": "parcoords"
           }
          ],
          "pie": [
           {
            "automargin": true,
            "type": "pie"
           }
          ],
          "scatter": [
           {
            "fillpattern": {
             "fillmode": "overlay",
             "size": 10,
             "solidity": 0.2
            },
            "type": "scatter"
           }
          ],
          "scatter3d": [
           {
            "line": {
             "colorbar": {
              "outlinewidth": 0,
              "ticks": ""
             }
            },
            "marker": {
             "colorbar": {
              "outlinewidth": 0,
              "ticks": ""
             }
            },
            "type": "scatter3d"
           }
          ],
          "scattercarpet": [
           {
            "marker": {
             "colorbar": {
              "outlinewidth": 0,
              "ticks": ""
             }
            },
            "type": "scattercarpet"
           }
          ],
          "scattergeo": [
           {
            "marker": {
             "colorbar": {
              "outlinewidth": 0,
              "ticks": ""
             }
            },
            "type": "scattergeo"
           }
          ],
          "scattergl": [
           {
            "marker": {
             "colorbar": {
              "outlinewidth": 0,
              "ticks": ""
             }
            },
            "type": "scattergl"
           }
          ],
          "scattermapbox": [
           {
            "marker": {
             "colorbar": {
              "outlinewidth": 0,
              "ticks": ""
             }
            },
            "type": "scattermapbox"
           }
          ],
          "scatterpolar": [
           {
            "marker": {
             "colorbar": {
              "outlinewidth": 0,
              "ticks": ""
             }
            },
            "type": "scatterpolar"
           }
          ],
          "scatterpolargl": [
           {
            "marker": {
             "colorbar": {
              "outlinewidth": 0,
              "ticks": ""
             }
            },
            "type": "scatterpolargl"
           }
          ],
          "scatterternary": [
           {
            "marker": {
             "colorbar": {
              "outlinewidth": 0,
              "ticks": ""
             }
            },
            "type": "scatterternary"
           }
          ],
          "surface": [
           {
            "colorbar": {
             "outlinewidth": 0,
             "ticks": ""
            },
            "colorscale": [
             [
              0,
              "#0d0887"
             ],
             [
              0.1111111111111111,
              "#46039f"
             ],
             [
              0.2222222222222222,
              "#7201a8"
             ],
             [
              0.3333333333333333,
              "#9c179e"
             ],
             [
              0.4444444444444444,
              "#bd3786"
             ],
             [
              0.5555555555555556,
              "#d8576b"
             ],
             [
              0.6666666666666666,
              "#ed7953"
             ],
             [
              0.7777777777777778,
              "#fb9f3a"
             ],
             [
              0.8888888888888888,
              "#fdca26"
             ],
             [
              1,
              "#f0f921"
             ]
            ],
            "type": "surface"
           }
          ],
          "table": [
           {
            "cells": {
             "fill": {
              "color": "#EBF0F8"
             },
             "line": {
              "color": "white"
             }
            },
            "header": {
             "fill": {
              "color": "#C8D4E3"
             },
             "line": {
              "color": "white"
             }
            },
            "type": "table"
           }
          ]
         },
         "layout": {
          "annotationdefaults": {
           "arrowcolor": "#2a3f5f",
           "arrowhead": 0,
           "arrowwidth": 1
          },
          "autotypenumbers": "strict",
          "coloraxis": {
           "colorbar": {
            "outlinewidth": 0,
            "ticks": ""
           }
          },
          "colorscale": {
           "diverging": [
            [
             0,
             "#8e0152"
            ],
            [
             0.1,
             "#c51b7d"
            ],
            [
             0.2,
             "#de77ae"
            ],
            [
             0.3,
             "#f1b6da"
            ],
            [
             0.4,
             "#fde0ef"
            ],
            [
             0.5,
             "#f7f7f7"
            ],
            [
             0.6,
             "#e6f5d0"
            ],
            [
             0.7,
             "#b8e186"
            ],
            [
             0.8,
             "#7fbc41"
            ],
            [
             0.9,
             "#4d9221"
            ],
            [
             1,
             "#276419"
            ]
           ],
           "sequential": [
            [
             0,
             "#0d0887"
            ],
            [
             0.1111111111111111,
             "#46039f"
            ],
            [
             0.2222222222222222,
             "#7201a8"
            ],
            [
             0.3333333333333333,
             "#9c179e"
            ],
            [
             0.4444444444444444,
             "#bd3786"
            ],
            [
             0.5555555555555556,
             "#d8576b"
            ],
            [
             0.6666666666666666,
             "#ed7953"
            ],
            [
             0.7777777777777778,
             "#fb9f3a"
            ],
            [
             0.8888888888888888,
             "#fdca26"
            ],
            [
             1,
             "#f0f921"
            ]
           ],
           "sequentialminus": [
            [
             0,
             "#0d0887"
            ],
            [
             0.1111111111111111,
             "#46039f"
            ],
            [
             0.2222222222222222,
             "#7201a8"
            ],
            [
             0.3333333333333333,
             "#9c179e"
            ],
            [
             0.4444444444444444,
             "#bd3786"
            ],
            [
             0.5555555555555556,
             "#d8576b"
            ],
            [
             0.6666666666666666,
             "#ed7953"
            ],
            [
             0.7777777777777778,
             "#fb9f3a"
            ],
            [
             0.8888888888888888,
             "#fdca26"
            ],
            [
             1,
             "#f0f921"
            ]
           ]
          },
          "colorway": [
           "#636efa",
           "#EF553B",
           "#00cc96",
           "#ab63fa",
           "#FFA15A",
           "#19d3f3",
           "#FF6692",
           "#B6E880",
           "#FF97FF",
           "#FECB52"
          ],
          "font": {
           "color": "#2a3f5f"
          },
          "geo": {
           "bgcolor": "white",
           "lakecolor": "white",
           "landcolor": "#E5ECF6",
           "showlakes": true,
           "showland": true,
           "subunitcolor": "white"
          },
          "hoverlabel": {
           "align": "left"
          },
          "hovermode": "closest",
          "mapbox": {
           "style": "light"
          },
          "paper_bgcolor": "white",
          "plot_bgcolor": "#E5ECF6",
          "polar": {
           "angularaxis": {
            "gridcolor": "white",
            "linecolor": "white",
            "ticks": ""
           },
           "bgcolor": "#E5ECF6",
           "radialaxis": {
            "gridcolor": "white",
            "linecolor": "white",
            "ticks": ""
           }
          },
          "scene": {
           "xaxis": {
            "backgroundcolor": "#E5ECF6",
            "gridcolor": "white",
            "gridwidth": 2,
            "linecolor": "white",
            "showbackground": true,
            "ticks": "",
            "zerolinecolor": "white"
           },
           "yaxis": {
            "backgroundcolor": "#E5ECF6",
            "gridcolor": "white",
            "gridwidth": 2,
            "linecolor": "white",
            "showbackground": true,
            "ticks": "",
            "zerolinecolor": "white"
           },
           "zaxis": {
            "backgroundcolor": "#E5ECF6",
            "gridcolor": "white",
            "gridwidth": 2,
            "linecolor": "white",
            "showbackground": true,
            "ticks": "",
            "zerolinecolor": "white"
           }
          },
          "shapedefaults": {
           "line": {
            "color": "#2a3f5f"
           }
          },
          "ternary": {
           "aaxis": {
            "gridcolor": "white",
            "linecolor": "white",
            "ticks": ""
           },
           "baxis": {
            "gridcolor": "white",
            "linecolor": "white",
            "ticks": ""
           },
           "bgcolor": "#E5ECF6",
           "caxis": {
            "gridcolor": "white",
            "linecolor": "white",
            "ticks": ""
           }
          },
          "title": {
           "x": 0.05
          },
          "xaxis": {
           "automargin": true,
           "gridcolor": "white",
           "linecolor": "white",
           "ticks": "",
           "title": {
            "standoff": 15
           },
           "zerolinecolor": "white",
           "zerolinewidth": 2
          },
          "yaxis": {
           "automargin": true,
           "gridcolor": "white",
           "linecolor": "white",
           "ticks": "",
           "title": {
            "standoff": 15
           },
           "zerolinecolor": "white",
           "zerolinewidth": 2
          }
         }
        },
        "xaxis": {
         "anchor": "y",
         "domain": [
          0,
          1
         ],
         "title": {
          "text": "n_tags"
         }
        },
        "yaxis": {
         "anchor": "x",
         "domain": [
          0,
          1
         ],
         "title": {
          "text": "n_instances_[%]"
         }
        }
       }
      }
     },
     "metadata": {},
     "output_type": "display_data"
    }
   ],
   "source": [
    "from collections import Counter\n",
    "import plotly.express as px\n",
    "import pandas as pd\n",
    "import numpy as np\n",
    "\n",
    "\n",
    "n_labels = []\n",
    "n_instances = []\n",
    "\n",
    "for k, v in Counter([prediction.sum() for prediction in y_val_pred]).items():\n",
    "    n_labels.append(k)\n",
    "    n_instances.append(v)\n",
    "n_instances = np.array(n_instances) / sum(n_instances)\n",
    "\n",
    "fig = px.bar(\n",
    "    pd.DataFrame({\"n_tags\": n_labels, \"n_instances_[%]\": n_instances}),\n",
    "    x=\"n_tags\",\n",
    "    y=\"n_instances_[%]\",\n",
    ")\n",
    "\n",
    "\n",
    "# save_image(fig, FIGUREFOLDER, filename=\"nb04-fig1-how-many-tags-per-message-without-rebalancing\")\n",
    "fig.show()"
   ]
  },
  {
   "cell_type": "markdown",
   "metadata": {},
   "source": [
    "This is a quite different distribution from the original distribution that we wanted to recover. We clearly predict too many tags (as can be seen from the high recall, but not as high precision in the metric report, too).\n",
    "\n",
    "Let's see where particular issues are."
   ]
  },
  {
   "cell_type": "code",
   "execution_count": 62,
   "metadata": {},
   "outputs": [
    {
     "data": {
      "text/html": [
       "<div>\n",
       "<style scoped>\n",
       "    .dataframe tbody tr th:only-of-type {\n",
       "        vertical-align: middle;\n",
       "    }\n",
       "\n",
       "    .dataframe tbody tr th {\n",
       "        vertical-align: top;\n",
       "    }\n",
       "\n",
       "    .dataframe thead th {\n",
       "        text-align: right;\n",
       "    }\n",
       "</style>\n",
       "<table border=\"1\" class=\"dataframe\">\n",
       "  <thead>\n",
       "    <tr style=\"text-align: right;\">\n",
       "      <th></th>\n",
       "      <th>cs.CL</th>\n",
       "      <th>cs.CV</th>\n",
       "      <th>cs.CY</th>\n",
       "      <th>cs.GT</th>\n",
       "      <th>cs.LG</th>\n",
       "      <th>cs.MA</th>\n",
       "      <th>cs.RO</th>\n",
       "      <th>cs.SI</th>\n",
       "      <th>eess.AS</th>\n",
       "      <th>eess.SP</th>\n",
       "      <th>eess.SY</th>\n",
       "      <th>math.NA</th>\n",
       "      <th>math.OC</th>\n",
       "      <th>math.ST</th>\n",
       "      <th>message_raw</th>\n",
       "      <th>message_cleaned</th>\n",
       "    </tr>\n",
       "  </thead>\n",
       "  <tbody>\n",
       "    <tr>\n",
       "      <th>0</th>\n",
       "      <td>0</td>\n",
       "      <td>0</td>\n",
       "      <td>0</td>\n",
       "      <td>0</td>\n",
       "      <td>0</td>\n",
       "      <td>0</td>\n",
       "      <td>0</td>\n",
       "      <td>0</td>\n",
       "      <td>0</td>\n",
       "      <td>0</td>\n",
       "      <td>1</td>\n",
       "      <td>1</td>\n",
       "      <td>0</td>\n",
       "      <td>0</td>\n",
       "      <td>In this paper, we propose a simulation model o...</td>\n",
       "      <td>paper propose simulation model spacetime discr...</td>\n",
       "    </tr>\n",
       "    <tr>\n",
       "      <th>1</th>\n",
       "      <td>0</td>\n",
       "      <td>0</td>\n",
       "      <td>0</td>\n",
       "      <td>0</td>\n",
       "      <td>0</td>\n",
       "      <td>-1</td>\n",
       "      <td>0</td>\n",
       "      <td>0</td>\n",
       "      <td>0</td>\n",
       "      <td>0</td>\n",
       "      <td>0</td>\n",
       "      <td>0</td>\n",
       "      <td>0</td>\n",
       "      <td>0</td>\n",
       "      <td>This paper introduces a blazingly fast, no-los...</td>\n",
       "      <td>paper introduce blazingly fast loss expert sys...</td>\n",
       "    </tr>\n",
       "    <tr>\n",
       "      <th>2</th>\n",
       "      <td>0</td>\n",
       "      <td>0</td>\n",
       "      <td>0</td>\n",
       "      <td>0</td>\n",
       "      <td>0</td>\n",
       "      <td>0</td>\n",
       "      <td>0</td>\n",
       "      <td>0</td>\n",
       "      <td>0</td>\n",
       "      <td>0</td>\n",
       "      <td>1</td>\n",
       "      <td>0</td>\n",
       "      <td>0</td>\n",
       "      <td>0</td>\n",
       "      <td>Decentralized multi-robot systems typically pe...</td>\n",
       "      <td>decentralized multi robot system typically per...</td>\n",
       "    </tr>\n",
       "    <tr>\n",
       "      <th>3</th>\n",
       "      <td>0</td>\n",
       "      <td>0</td>\n",
       "      <td>0</td>\n",
       "      <td>-1</td>\n",
       "      <td>0</td>\n",
       "      <td>-1</td>\n",
       "      <td>0</td>\n",
       "      <td>0</td>\n",
       "      <td>0</td>\n",
       "      <td>0</td>\n",
       "      <td>-1</td>\n",
       "      <td>0</td>\n",
       "      <td>0</td>\n",
       "      <td>0</td>\n",
       "      <td>As one of the main subjects of investigation i...</td>\n",
       "      <td>one main subject investigation datum science n...</td>\n",
       "    </tr>\n",
       "    <tr>\n",
       "      <th>4</th>\n",
       "      <td>0</td>\n",
       "      <td>0</td>\n",
       "      <td>0</td>\n",
       "      <td>0</td>\n",
       "      <td>-1</td>\n",
       "      <td>0</td>\n",
       "      <td>0</td>\n",
       "      <td>0</td>\n",
       "      <td>0</td>\n",
       "      <td>0</td>\n",
       "      <td>0</td>\n",
       "      <td>0</td>\n",
       "      <td>0</td>\n",
       "      <td>0</td>\n",
       "      <td>Partially Observable Stochastic Games (POSGs) ...</td>\n",
       "      <td>partially observable stochastic games posgs ge...</td>\n",
       "    </tr>\n",
       "  </tbody>\n",
       "</table>\n",
       "</div>"
      ],
      "text/plain": [
       "   cs.CL  cs.CV  cs.CY  cs.GT  cs.LG  cs.MA  cs.RO  cs.SI  eess.AS  eess.SP  \\\n",
       "0      0      0      0      0      0      0      0      0        0        0   \n",
       "1      0      0      0      0      0     -1      0      0        0        0   \n",
       "2      0      0      0      0      0      0      0      0        0        0   \n",
       "3      0      0      0     -1      0     -1      0      0        0        0   \n",
       "4      0      0      0      0     -1      0      0      0        0        0   \n",
       "\n",
       "   eess.SY  math.NA  math.OC  math.ST  \\\n",
       "0        1        1        0        0   \n",
       "1        0        0        0        0   \n",
       "2        1        0        0        0   \n",
       "3       -1        0        0        0   \n",
       "4        0        0        0        0   \n",
       "\n",
       "                                         message_raw  \\\n",
       "0  In this paper, we propose a simulation model o...   \n",
       "1  This paper introduces a blazingly fast, no-los...   \n",
       "2  Decentralized multi-robot systems typically pe...   \n",
       "3  As one of the main subjects of investigation i...   \n",
       "4  Partially Observable Stochastic Games (POSGs) ...   \n",
       "\n",
       "                                     message_cleaned  \n",
       "0  paper propose simulation model spacetime discr...  \n",
       "1  paper introduce blazingly fast loss expert sys...  \n",
       "2  decentralized multi robot system typically per...  \n",
       "3  one main subject investigation datum science n...  \n",
       "4  partially observable stochastic games posgs ge...  "
      ]
     },
     "execution_count": 62,
     "metadata": {},
     "output_type": "execute_result"
    }
   ],
   "source": [
    "import pandas as pd\n",
    "\n",
    "(\n",
    "    (_, X_val_raw, _, _, _, _),\n",
    "    _,\n",
    ") = load_processed_data(DATAFOLDER / \"interim\")\n",
    "\n",
    "comparison = pd.DataFrame(y_val_pred - y_val, columns=labels).assign(\n",
    "    message_raw=X_val_raw, message_cleaned=X_val\n",
    ")\n",
    "\n",
    "comparison.head()"
   ]
  },
  {
   "cell_type": "code",
   "execution_count": 63,
   "metadata": {},
   "outputs": [
    {
     "data": {
      "text/plain": [
       "'Computation and Language'"
      ]
     },
     "execution_count": 63,
     "metadata": {},
     "output_type": "execute_result"
    },
    {
     "data": {
      "text/html": [
       "<div>\n",
       "<style scoped>\n",
       "    .dataframe tbody tr th:only-of-type {\n",
       "        vertical-align: middle;\n",
       "    }\n",
       "\n",
       "    .dataframe tbody tr th {\n",
       "        vertical-align: top;\n",
       "    }\n",
       "\n",
       "    .dataframe thead th {\n",
       "        text-align: right;\n",
       "    }\n",
       "</style>\n",
       "<table border=\"1\" class=\"dataframe\">\n",
       "  <thead>\n",
       "    <tr style=\"text-align: right;\">\n",
       "      <th></th>\n",
       "      <th>cs.CL</th>\n",
       "      <th>message_raw</th>\n",
       "      <th>message_cleaned</th>\n",
       "    </tr>\n",
       "  </thead>\n",
       "  <tbody>\n",
       "    <tr>\n",
       "      <th>175</th>\n",
       "      <td>-1</td>\n",
       "      <td>This paper introduces the SEAD framework that simplifies the process of\\ndesigning and describing autonomous vehicle platooning manoeuvres. Although a\\nlarge body of research has been formulating platooning manoeuvres, it is still\\nchallenging to design, describe, read, and understand them. This difficulty\\nlargely arises from missing formalisation. To fill this gap, we analysed\\nexisting ways of describing manoeuvres, derived the causes of difficulty, and\\ndesigned a framework that simplifies the manoeuvre design process. Alongside, a\\nManoeuvre Design Language was developed to structurally describe manoeuvres in\\na machine-readable format. Unlike state-of-the-art manoeuvre descriptions that\\nrequire one state machine for every participating vehicle, the SEAD framework\\nallows describing any manoeuvre from the single perspective of the platoon\\nleader. %As a proof of concept, the proposed framework was implemented in the\\nmixed traffic simulation environment BEHAVE for an autonomous highway scenario.\\nUsing this framework, we implemented several manoeuvres as they were described\\nin literature. To demonstrate the applicability of the framework, an experiment\\nwas performed to evaluate the execution time performance of multiple\\nalternatives of the Join-Middle manoeuvre. This proof-of-concept experiment\\nrevealed that the manoeuvre execution time can be reduced by 28 \\% through\\nparallelising various steps without considerable secondary effects. We hope\\nthat the SEAD framework will pave the way for further research in the area of\\nnew manoeuvre design and optimisation by largely simplifying and unifying\\nplatooning manoeuvre representation.</td>\n",
       "      <td>paper introduce sead framework simplify process design describe autonomous vehicle platoone manoeuvre although large body research formulate platoone manoeuvre still challenge design describe read understand difficulty largely arise miss formalisation fill gap analyse exist way describe manoeuvre derive cause difficulty design framework simplify manoeuvre design process alongside manoeuvre design language develop structurally describe manoeuvre machine readable format unlike state art manoeuvre description require one state machine every participate vehicle sead framework allow describe manoeuvre single perspective platoon leader proof concept propose framework implement mixed traffic simulation environment behave autonomous highway scenario use framework implement several manoeuvre describe literature demonstrate applicability framework experiment perform evaluate execution time performance multiple alternative join middle manoeuvre proof concept experiment reveal manoeuvre execution time reduce 28 parallelise various step without considerable secondary effect hope sead framework pave way research area new manoeuvre design optimisation largely simplify unifying platoone manoeuvre representation</td>\n",
       "    </tr>\n",
       "    <tr>\n",
       "      <th>266</th>\n",
       "      <td>-1</td>\n",
       "      <td>Successful negotiators must learn how to balance optimizing for self-interest\\nand cooperation. Yet current artificial negotiation agents often heavily depend\\non the quality of the static datasets they were trained on, limiting their\\ncapacity to fashion an adaptive response balancing self-interest and\\ncooperation. For this reason, we find that these agents can achieve either high\\nutility or cooperation, but not both. To address this, we introduce a targeted\\ndata acquisition framework where we guide the exploration of a reinforcement\\nlearning agent using annotations from an expert oracle. The guided exploration\\nincentivizes the learning agent to go beyond its static dataset and develop new\\nnegotiation strategies. We show that this enables our agents to obtain\\nhigher-reward and more Pareto-optimal solutions when negotiating with both\\nsimulated and human partners compared to standard supervised learning and\\nreinforcement learning methods. This trend additionally holds when comparing\\nagents using our targeted data acquisition framework to variants of agents\\ntrained with a mix of supervised learning and reinforcement learning, or to\\nagents using tailored reward functions that explicitly optimize for utility and\\nPareto-optimality.</td>\n",
       "      <td>successful negotiator must learn balance optimize self interest cooperation yet current artificial negotiation agent often heavily depend quality static dataset train limit capacity fashion adaptive response balance self interest cooperation reason find agent achieve either high utility cooperation address introduce target datum acquisition framework guide exploration reinforcement learn agent use annotation expert oracle guide exploration incentivize learn agent go beyond static dataset develop new negotiation strategy show enable agent obtain high reward pareto optimal solution negotiate simulated human partner compare standard supervised learning reinforcement learning method trend additionally hold compare agent use target datum acquisition framework variant agent train mix supervised learning reinforcement learning agent use tailor reward function explicitly optimize utility pareto optimality</td>\n",
       "    </tr>\n",
       "    <tr>\n",
       "      <th>287</th>\n",
       "      <td>1</td>\n",
       "      <td>People have the ability to make sensible assumptions about other people's\\nemotional states by being sympathetic, and because of our common sense of\\nknowledge and the ability to think visually. Over the years, much research has\\nbeen done on providing machines with the ability to detect human emotions and\\nto develop automated emotional intelligence systems. The computer's ability to\\ndetect human emotions is gaining popularity in creating sensitive systems such\\nas learning environments, health care systems and real-world. Improving\\npeople's health has been the subject of much research. This paper describes the\\nformation as conceptual evidence of emotional acquisition and control in\\nintelligent health settings. The authors of this paper aim for an\\nunconventional approach with a friendly look to get emotional scenarios from\\nthe system to establish a functional, non-intrusive and emotionally-sensitive\\nenvironment where users can do their normal activities naturally and see the\\nprogram only when pleasant mood activating services are received. The\\ncontext-sensitive system interacts with users to detect and differentiate\\nemotions through facial expressions or speech recognition, to make music\\nrecommendations and mood color treatments with the services installed on their\\nIoT devices.</td>\n",
       "      <td>people ability make sensible assumption people emotional state sympathetic common sense knowledge ability think visually year much research provide machine ability detect human emotion develop automate emotional intelligence system computer ability detect human emotion gain popularity create sensitive system learn environment health care system real world improve people health subject much research paper describe formation conceptual evidence emotional acquisition control intelligent health setting author paper aim unconventional approach friendly look get emotional scenario system establish functional non intrusive emotionally sensitive environment user normal activity naturally see program pleasant mood activate service receive context sensitive system interact user detect differentiate emotion facial expression speech recognition make music recommendation mood color treatment service instal iot device</td>\n",
       "    </tr>\n",
       "    <tr>\n",
       "      <th>389</th>\n",
       "      <td>1</td>\n",
       "      <td>When we use the wisdom of the crowds, we usually rank the answers according\\nto their popularity, especially when we cannot verify the answers. However,\\nthis can be very dangerous when the majority make systematic mistakes. A\\nfundamental question arises: can we build a hierarchy among the answers\\n\\textit{without any prior} where the higher-ranking answers, which may not be\\nsupported by the majority, are from more sophisticated people? To address the\\nquestion, we propose 1) a novel model to describe people's thinking hierarchy;\\n2) two algorithms to learn the thinking hierarchy without any prior; 3) a novel\\nopen-response based crowdsourcing approach based on the above theoretic\\nframework. In addition to theoretic justifications, we conduct four empirical\\ncrowdsourcing studies and show that a) the accuracy of the top-ranking answers\\nlearned by our approach is much higher than that of plurality voting (In one\\nquestion, the plurality answer is supported by 74 respondents but the correct\\nanswer is only supported by 3 respondents. Our approach ranks the correct\\nanswer the highest without any prior); b) our model has a high goodness-of-fit,\\nespecially for the questions where our top-ranking answer is correct. To the\\nbest of our knowledge, we are the first to propose a thinking hierarchy model\\nwith empirical validations in the general problem-solving scenarios; and the\\nfirst to propose a practical open-response based crowdsourcing approach that\\nbeats plurality voting without any prior.</td>\n",
       "      <td>use wisdom crowd usually rank answer accord popularity especially verify answer however dangerous majority make systematic mistake fundamental question arise build hierarchy among answer textitwithout prior higher rank answer may support majority sophisticated people address question propose 1 novel model describe people thinking hierarchy 2 two algorithm learn thinking hierarchy without prior 3 novel open response base crowdsourcing approach base theoretic framework addition theoretic justification conduct four empirical crowdsourcing study show accuracy top rank answer learn approach much high plurality voting one question plurality answer support 74 respondent correct answer support 3 respondent approach rank correct answer high without prior b model high goodness fit especially question top rank answer correct good knowledge first propose think hierarchy model empirical validation general problem solve scenario first propose practical open response base crowdsourcing approach beat plurality voting without prior</td>\n",
       "    </tr>\n",
       "    <tr>\n",
       "      <th>425</th>\n",
       "      <td>1</td>\n",
       "      <td>Distributed data-parallel training has been widely adopted for deep neural\\nnetwork (DNN) models. Although current deep learning (DL) frameworks scale well\\nfor dense models like image classification models, we find that these DL\\nframeworks have relatively low scalability for sparse models like natural\\nlanguage processing (NLP) models that have highly sparse embedding tables. Most\\nexisting works overlook the sparsity of model parameters thus suffering from\\nsignificant but unnecessary communication overhead. In this paper, we propose\\nEmbRace, an efficient communication framework to accelerate communications of\\ndistributed training for sparse models. EmbRace introduces Sparsity-aware\\nHybrid Communication, which integrates AlltoAll and model parallelism into\\ndata-parallel training, so as to reduce the communication overhead of highly\\nsparse parameters. To effectively overlap sparse communication with both\\nbackward and forward computation, EmbRace further designs a 2D Communication\\nScheduling approach which optimizes the model computation procedure, relaxes\\nthe dependency of embeddings, and schedules the sparse communications of each\\nembedding row with a priority queue. We have implemented a prototype of EmbRace\\nbased on PyTorch and Horovod, and conducted comprehensive evaluations with four\\nrepresentative NLP models. Experimental results show that EmbRace achieves up\\nto 2.41X speedup compared to the state-of-the-art distributed training\\nbaselines.</td>\n",
       "      <td>distribute data parallel training widely adopt deep neural network dnn model although current deep learning dl framework scale well dense model like image classification model find dl framework relatively low scalability sparse model like natural language processing nlp model highly sparse embed table exist work overlook sparsity model parameter thus suffer significant unnecessary communication overhead paper propose embrace efficient communication framework accelerate communication distribute training sparse model embrace introduce sparsity aware hybrid communication integrate alltoall model parallelism data parallel training reduce communication overhead highly sparse parameter effectively overlap sparse communication backward forward computation embrace far design 2d communication scheduling approach optimize model computation procedure relax dependency embedding schedule sparse communication embed row priority queue implement prototype embrace base pytorch horovod conduct comprehensive evaluation four representative nlp model experimental result show embrace achieve 241x speedup compare state art distribute training baseline</td>\n",
       "    </tr>\n",
       "    <tr>\n",
       "      <th>493</th>\n",
       "      <td>1</td>\n",
       "      <td>The availability and interactive nature of social media have made them the\\nprimary source of news around the globe. The popularity of social media tempts\\ncriminals to pursue their immoral intentions by producing and disseminating\\nfake news using seductive text and misleading images. Therefore, verifying\\nsocial media news and spotting fakes is crucial. This work aims to analyze\\nmulti-modal features from texts and images in social media for detecting fake\\nnews. We propose a Fake News Revealer (FNR) method that utilizes transform\\nlearning to extract contextual and semantic features and contrastive loss to\\ndetermine the similarity between image and text. We applied FNR on two real\\nsocial media datasets. The results show the proposed method achieves higher\\naccuracies in detecting fake news compared to the previous works.</td>\n",
       "      <td>availability interactive nature social medium make primary source news around globe popularity social medium tempt criminal pursue immoral intention produce disseminate fake news use seductive text misleading image therefore verify social medium news spot fake crucial work aim analyze multi modal feature text image social medium detect fake news propose fake news revealer fnr method utilize transform learn extract contextual semantic feature contrastive loss determine similarity image text apply fnr two real social medium dataset result show propose method achieve high accuracy detect fake news compare previous work</td>\n",
       "    </tr>\n",
       "    <tr>\n",
       "      <th>494</th>\n",
       "      <td>1</td>\n",
       "      <td>Understanding how different online communities engage with COVID-19\\nmisinformation is critical for public health response, as misinformation\\nconfined to a small, isolated community of users poses a different public\\nhealth risk than misinformation being consumed by a large population spanning\\nmany diverse communities. Here we take a longitudinal approach that leverages\\ntools from network science to study COVID-19 misinformation on Twitter. Our\\napproach provides a means to examine the breadth of misinformation engagement\\nusing modest data needs and computational resources. We identify influential\\naccounts from different Twitter communities discussing COVID-19, and follow\\nthese `sentinel nodes' longitudinally from July 2020 to January 2021. We\\ncharacterize sentinel nodes in terms of a linked-media preference score, and\\nuse a standardized similarity score to examine alignment of tweets within and\\nbetween communities. We find that media preference is strongly correlated with\\nthe amount of misinformation propagated by sentinel nodes. Engagement with\\nsensationalist misinformation topics is largely confined to a cluster of\\nsentinel nodes that includes influential conspiracy theorist accounts, while\\nmisinformation relating to COVID-19 severity generated widespread engagement\\nacross multiple communities. Our findings indicate that misinformation\\ndownplaying COVID-19 severity is of particular concern for public health\\nresponse.</td>\n",
       "      <td>understand different online community engage covid-19 misinformation critical public health response misinformation confine small isolated community user pose different public health risk misinformation consume large population span many diverse community take longitudinal approach leverage tool network science study covid-19 misinformation twitter approach provide means examine breadth misinformation engagement use modest datum need computational resource identify influential account different twitter community discuss covid-19 follow sentinel nodes longitudinally july 2020 january 2021 characterize sentinel node term link medium preference score use standardized similarity score examine alignment tweet within community find medium preference strongly correlate amount misinformation propagate sentinel nodes engagement sensationalist misinformation topic largely confine cluster sentinel node include influential conspiracy theorist account misinformation relate covid-19 severity generate widespread engagement across multiple community finding indicate misinformation downplay covid-19 severity particular concern public health response</td>\n",
       "    </tr>\n",
       "    <tr>\n",
       "      <th>518</th>\n",
       "      <td>1</td>\n",
       "      <td>Adoption of recently developed methods from machine learning has given rise\\nto creation of drug-discovery knowledge graphs (KG) that utilize the\\ninterconnected nature of the domain. Graph-based modelling of the data,\\ncombined with KG embedding (KGE) methods, are promising as they provide a more\\nintuitive representation and are suitable for inference tasks such as\\npredicting missing links. One common application is to produce ranked lists of\\ngenes for a given disease, where the rank is based on the perceived likelihood\\nof association between the gene and the disease. It is thus critical that these\\npredictions are not only pertinent but also biologically meaningful. However,\\nKGs can be biased either directly due to the underlying data sources that are\\nintegrated or due to modeling choices in the construction of the graph, one\\nconsequence of which is that certain entities can get topologically\\noverrepresented. We demonstrate the effect of these inherent structural\\nimbalances, resulting in densely-connected entities being highly ranked no\\nmatter the context. We provide support for this observation across different\\ndatasets, models as well as predictive tasks. Further, we present various graph\\nperturbation experiments which yield more support to the observation that KGE\\nmodels can be more influenced by the frequency of entities rather than any\\nbiological information encoded within the relations. Our results highlight the\\nimportance of data modeling choices, and emphasizes the need for practitioners\\nto be mindful of these issues when interpreting model outputs and during KG\\ncomposition.</td>\n",
       "      <td>adoption recently develop method machine learning give rise creation drug discovery knowledge graph kg utilize interconnect nature domain graph base modelling datum combine kg embed kge method promise provide intuitive representation suitable inference task predict missing link one common application produce rank list gene give disease rank base perceive likelihood association gene disease thus critical prediction pertinent also biologically meaningful however kg bias either directly due underlie data source integrate due modeling choice construction graph one consequence certain entity get topologically overrepresente demonstrate effect inherent structural imbalance result densely connect entity highly rank matter context provide support observation across different dataset model well predictive task far present various graph perturbation experiment yield support observation kge model influence frequency entity rather biological information encode within relation result highlight importance datum modeling choice emphasize need practitioner mindful issue interpret model output kg composition</td>\n",
       "    </tr>\n",
       "    <tr>\n",
       "      <th>525</th>\n",
       "      <td>1</td>\n",
       "      <td>The increasing focus on Web 3.0 is leading to automated creation and\\nenrichment of ontologies and other linked datasets. Alongside automation,\\nquality evaluation of enriched ontologies can impact software reliability and\\nreuse. Current quality evaluation approaches oftentimes seek to evaluate\\nontologies in either syntactic (degree of following ontology development\\nguidelines) or semantic (degree of semantic validity of enriched\\nconcepts/relations) aspects. This paper proposes an ontology quality evaluation\\nframework consisting of: (a) SynEvaluator and (b) SemValidator for evaluating\\nsyntactic and semantic aspects of ontologies respectively. SynEvaluator allows\\ndynamic task-specific creation and updation of syntactic rules at run-time\\nwithout any need for programming. SemValidator uses Twitter-based expertise of\\nvalidators for semantic evaluation. The efficacy and validity of the framework\\nis shown empirically on multiple ontologies.</td>\n",
       "      <td>increase focus web 30 lead automate creation enrichment ontology link dataset alongside automation quality evaluation enrich ontology impact software reliability reuse current quality evaluation approach oftentime seek evaluate ontology either syntactic degree follow ontology development guideline semantic degree semantic validity enrich concept relation aspect paper propose ontology quality evaluation framework consist synevaluator b semvalidator evaluate syntactic semantic aspect ontology respectively synevaluator allow dynamic task specific creation updation syntactic rule run time without need programming semvalidator use twitter base expertise validator semantic evaluation efficacy validity framework show empirically multiple ontology</td>\n",
       "    </tr>\n",
       "    <tr>\n",
       "      <th>530</th>\n",
       "      <td>1</td>\n",
       "      <td>Entity type prediction is an important problem in knowledge graph (KG)\\nresearch. A new KG entity type prediction method, named CORE (COmplex space\\nRegression and Embedding), is proposed in this work. The proposed CORE method\\nleverages the expressive power of two complex space embedding models; namely,\\nRotatE and ComplEx models. It embeds entities and types in two different\\ncomplex spaces using either RotatE or ComplEx. Then, we derive a complex\\nregression model to link these two spaces. Finally, a mechanism to optimize\\nembedding and regression parameters jointly is introduced. Experiments show\\nthat CORE outperforms benchmarking methods on representative KG entity type\\ninference datasets. Strengths and weaknesses of various entity type prediction\\nmethods are analyzed.</td>\n",
       "      <td>entity type prediction important problem knowledge graph kg research new kg entity type prediction method name core complex space regression embedding propose work propose core method leverage expressive power two complex space embed model namely rotate complex model embed entity type two different complex space use either rotate complex derive complex regression model link two space finally mechanism optimize embed regression parameter jointly introduce experiment show core outperform benchmarke method representative kg entity type inference dataset strength weakness various entity type prediction method analyze</td>\n",
       "    </tr>\n",
       "    <tr>\n",
       "      <th>546</th>\n",
       "      <td>1</td>\n",
       "      <td>Graphs can represent relational information among entities and graph\\nstructures are widely used in many intelligent tasks such as search,\\nrecommendation, and question answering. However, most of the graph-structured\\ndata in practice suffers from incompleteness, and thus link prediction becomes\\nan important research problem. Though many models are proposed for link\\nprediction, the following two problems are still less explored: (1) Most\\nmethods model each link independently without making use of the rich\\ninformation from relevant links, and (2) existing models are mostly designed\\nbased on associative learning and do not take reasoning into consideration.\\nWith these concerns, in this paper, we propose Graph Collaborative Reasoning\\n(GCR), which can use the neighbor link information for relational reasoning on\\ngraphs from logical reasoning perspectives. We provide a simple approach to\\ntranslate a graph structure into logical expressions, so that the link\\nprediction task can be converted into a neural logic reasoning problem. We\\napply logical constrained neural modules to build the network architecture\\naccording to the logical expression and use back propagation to efficiently\\nlearn the model parameters, which bridges differentiable learning and symbolic\\nreasoning in a unified architecture. To show the effectiveness of our work, we\\nconduct experiments on graph-related tasks such as link prediction and\\nrecommendation based on commonly used benchmark datasets, and our graph\\ncollaborative reasoning approach achieves state-of-the-art performance.</td>\n",
       "      <td>graph represent relational information among entity graph structure widely use many intelligent task search recommendation question answer however graph structured datum practice suffer incompleteness thus link prediction become important research problem though many model propose link prediction follow two problem still less explore 1 method model link independently without make use rich information relevant link 2 exist model mostly design base associative learning take reasoning consideration concern paper propose graph collaborative reasoning gcr use neighbor link information relational reasoning graph logical reasoning perspective provide simple approach translate graph structure logical expression link prediction task convert neural logic reasoning problem apply logical constrained neural module build network architecture accord logical expression use back propagation efficiently learn model parameter bridge differentiable learning symbolic reasoning unified architecture show effectiveness work conduct experiment graph relate task link prediction recommendation base commonly use benchmark dataset graph collaborative reasoning approach achieve state art performance</td>\n",
       "    </tr>\n",
       "    <tr>\n",
       "      <th>597</th>\n",
       "      <td>-1</td>\n",
       "      <td>Loneliness has been associated with negative outcomes for physical and mental\\nhealth. Understanding how people express and cope with various forms of\\nloneliness is critical for early screening and targeted interventions to reduce\\nloneliness, particularly among vulnerable groups such as young adults. To\\nexamine how different forms of loneliness and coping strategies manifest in\\nloneliness self-disclosure, we built a dataset, FIG-Loneliness (FIne-Grained\\nLoneliness) by using Reddit posts in two young adult-focused forums and two\\nloneliness related forums consisting of a diverse age group. We provided\\nannotations by trained human annotators for binary and fine-grained loneliness\\nclassifications of the posts. Trained on FIG-Loneliness, two BERT-based models\\nwere used to understand loneliness forms and authors' coping strategies in\\nthese forums. Our binary loneliness classification achieved an accuracy above\\n97%, and fine-grained loneliness category classification reached an average\\naccuracy of 77% across all labeled categories. With FIG-Loneliness and model\\npredictions, we found that loneliness expressions in the young adults related\\nforums were distinct from other forums. Those in young adult-focused forums\\nwere more likely to express concerns pertaining to peer relationship, and were\\npotentially more sensitive to geographical isolation impacted by the COVID-19\\npandemic lockdown. Also, we showed that different forms of loneliness have\\ndifferential use in coping strategies.</td>\n",
       "      <td>loneliness associate negative outcome physical mental health understand people express cope various form loneliness critical early screening target intervention reduce loneliness particularly among vulnerable group young adult examine different form loneliness cope strategy manifest loneliness self disclosure build dataset fig loneliness fine grained loneliness use reddit post two young adult focus forum two loneliness relate forum consist diverse age group provide annotation train human annotator binary fine grain loneliness classification post train fig loneliness two bert base model use understand loneliness form author cope strategy forum binary loneliness classification achieve accuracy 97 fine grain loneliness category classification reach average accuracy 77 across label category fig loneliness model prediction find loneliness expression young adult relate forum distinct forum young adult focus forum likely express concern pertain peer relationship potentially sensitive geographical isolation impact covid-19 pandemic lockdown also show different form loneliness differential use cope strategy</td>\n",
       "    </tr>\n",
       "    <tr>\n",
       "      <th>599</th>\n",
       "      <td>1</td>\n",
       "      <td>Sudden Unexpected Death in Epilepsy (SUDEP) remains a leading cause of death\\nin people with epilepsy. Despite the constant risk for patients and bereavement\\nto family members, to date the physiological mechanisms of SUDEP remain\\nunknown. Here we explore the potential to identify putative predictive signals\\nof SUDEP from online digital behavioral data using text and sentiment analysis.\\nSpecifically, we analyze Facebook timelines of six epilepsy patients deceased\\ndue to SUDEP, donated by surviving family members. We find preliminary evidence\\nfor behavioral changes detectable by text and sentiment analysis tools. Namely,\\nin the months preceding their SUDEP event patient social media timelines show:\\ni) increase in verbosity; ii) increased use of functional words; and iii)\\nsentiment shifts as measured by different sentiment analysis tools. Combined,\\nthese results suggest that social media engagement, as well as its sentiment,\\nmay serve as possible early-warning signals for SUDEP in people with epilepsy.\\nWhile the small sample of patient timelines analyzed in this study prevents\\ngeneralization, our preliminary investigation demonstrates the potential of\\nsocial media data as complementary data in larger studies of SUDEP and\\nepilepsy.</td>\n",
       "      <td>sudden unexpected death epilepsy sudep remain lead cause death people epilepsy despite constant risk patient bereavement family member date physiological mechanism sudep remain unknown explore potential identify putative predictive signal sudep online digital behavioral datum use text sentiment analysis specifically analyze facebook timeline six epilepsy patient decease due sudep donate survive family member find preliminary evidence behavioral change detectable text sentiment analysis tool namely month precede sudep event patient social medium timeline show increase verbosity ii increase use functional word iii sentiment shift measure different sentiment analysis tool combine result suggest social medium engagement well sentiment may serve possible early warn signal sudep people epilepsy small sample patient timeline analyze study prevent generalization preliminary investigation demonstrate potential social medium datum complementary datum large study sudep epilepsy</td>\n",
       "    </tr>\n",
       "    <tr>\n",
       "      <th>653</th>\n",
       "      <td>1</td>\n",
       "      <td>While false rumors pose a threat to the successful overcoming of the COVID-19\\npandemic, an understanding of how rumors diffuse in online social networks is -\\neven for non-crisis situations - still in its infancy. Here we analyze a large\\nsample consisting of COVID-19 rumor cascades from Twitter that have been\\nfact-checked by third-party organizations. The data comprises N=10,610 rumor\\ncascades that have been retweeted more than 24 million times. We investigate\\nwhether COVID-19 misinformation spreads more viral than the truth and whether\\nthe differences in the diffusion of true vs. false rumors can be explained by\\nthe moral emotions they carry. We observe that, on average, COVID-19\\nmisinformation is more likely to go viral than truthful information. However,\\nthe veracity effect is moderated by moral emotions: false rumors are more viral\\nthan the truth if the source tweets embed a high number of other-condemning\\nemotion words, whereas a higher number of self-conscious emotion words is\\nlinked to a less viral spread. The effects are pronounced both for health\\nmisinformation and false political rumors. These findings offer insights into\\nhow true vs. false rumors spread and highlight the importance of considering\\nemotions from the moral emotion families in social media content.</td>\n",
       "      <td>false rumor pose threat successful overcoming covid-19 pandemic understanding rumor diffuse online social network even non crisis situation still infancy analyze large sample consist covid-19 rumor cascade twitter fact check third party organization datum comprise n10610 rumor cascade retweete 24 million time investigate whether covid-19 misinformation spread viral truth whether difference diffusion true vs false rumor explain moral emotion carry observe average covid-19 misinformation likely go viral truthful information however veracity effect moderate moral emotion false rumor viral truth source tweet embed high number condemn emotion word whereas high number self conscious emotion word link less viral spread effect pronounce health misinformation false political rumor finding offer insight true vs false rumor spread highlight importance consider emotion moral emotion family social medium content</td>\n",
       "    </tr>\n",
       "    <tr>\n",
       "      <th>662</th>\n",
       "      <td>1</td>\n",
       "      <td>The outbreak of the SARS-CoV-2 novel coronavirus (COVID-19) has been\\naccompanied by a large amount of misleading and false information about the\\nvirus, especially on social media. During the pandemic social media gained\\nspecial interest as it went on to become an important medium of communication.\\nThis made the information being relayed on these platforms especially critical.\\nIn our work, we aim to explore the percentage of fake news being spread on\\nTwitter as well as measure the sentiment of the public at the same time. We\\nfurther study how the sentiment of fear is present among the public. In\\naddition to that we compare the rate of spread of the virus per day with the\\nrate of spread of fake news on Twitter. Our study is useful in establishing the\\nrole of Twitter, and social media, during a crisis, and more specifically\\nduring crisis management.</td>\n",
       "      <td>outbreak sars cov-2 novel coronavirus covid-19 accompany large amount misleading false information virus especially social medium pandemic social medium gain special interest go become important medium communication make information relay platform especially critical work aim explore percentage fake news spread twitter well measure sentiment public time far study sentiment fear present among public addition compare rate spread virus per day rate spread fake news twitter study useful establish role twitter social medium crisis specifically crisis management</td>\n",
       "    </tr>\n",
       "    <tr>\n",
       "      <th>686</th>\n",
       "      <td>1</td>\n",
       "      <td>How can we perform knowledge reasoning over temporal knowledge graphs (TKGs)?\\nTKGs represent facts about entities and their relations, where each fact is\\nassociated with a timestamp. Reasoning over TKGs, i.e., inferring new facts\\nfrom time-evolving KGs, is crucial for many applications to provide intelligent\\nservices. However, despite the prevalence of real-world data that can be\\nrepresented as TKGs, most methods focus on reasoning over static knowledge\\ngraphs, or cannot predict future events. In this paper, we present a problem\\nformulation that unifies the two major problems that need to be addressed for\\nan effective reasoning over TKGs, namely, modeling the event time and the\\nevolving network structure. Our proposed method EvoKG jointly models both tasks\\nin an effective framework, which captures the ever-changing structural and\\ntemporal dynamics in TKGs via recurrent event modeling, and models the\\ninteractions between entities based on the temporal neighborhood aggregation\\nframework. Further, EvoKG achieves an accurate modeling of event time, using\\nflexible and efficient mechanisms based on neural density estimation.\\nExperiments show that EvoKG outperforms existing methods in terms of\\neffectiveness (up to 77% and 116% more accurate time and link prediction) and\\nefficiency.</td>\n",
       "      <td>perform knowledge reason temporal knowledge graph tkgs tkg represent fact entity relation fact associate timestamp reason tkg ie infer new fact time evolve kg crucial many application provide intelligent service however despite prevalence real world datum represent tkg method focus reason static knowledge graph predict future event paper present problem formulation unify two major problem need address effective reasoning tkg namely model event time evolve network structure propose method evokg jointly model task effective framework capture ever change structural temporal dynamic tkg via recurrent event modeling model interaction entity base temporal neighborhood aggregation framework far evokg achieve accurate modeling event time use flexible efficient mechanism base neural density estimation experiment show evokg outperform exist method term effectiveness 77 116 accurate time link prediction efficiency</td>\n",
       "    </tr>\n",
       "    <tr>\n",
       "      <th>740</th>\n",
       "      <td>1</td>\n",
       "      <td>While major strides have been made towards gender equality in public life,\\nserious inequality remains in the domestic sphere, especially around parenting.\\nThe present study analyses discussions about parenting on Reddit to explore\\naudience effects and gender stereotypes. It suggests a novel method to study\\ntopical variation in individuals' language when interacting with different\\naudiences. Comments posted in 2020 were collected from three parenting\\nsubreddits, described as being for fathers (r/Daddit), mothers (r/Mommit), and\\nall parents (r/Parenting). Users posting on r/Parenting and r/Daddit or on\\nr/Parenting and r/Mommit were assumed to identify as fathers or mothers,\\nrespectively, allowing gender comparison. Users' comments on r/Parenting (to a\\nmixed-gender audience) were compared with their comments to single-gender\\naudiences on r/Daddit or r/Mommit using LDA topic modelling. Results showed\\nthat the most discussed topic among parents is about education and family\\nadvice, a topic mainly discussed in the mixed-gender subreddit and more by\\nfathers than mothers. Regarding the basic needs of children (sleep, food, and\\nmedical care), mothers seemed to be more concerned regardless of the audience.\\nIn contrast, topics such as birth and pregnancy announcements and physical\\nappearance were more discussed by fathers in the father-centric subreddit.\\nOverall, findings seem to show that mothers are generally more concerned about\\nthe practical sides of parenting while fathers' expressed concerns are more\\ncontextual: with other fathers, there seems to be a desire to show their\\nfatherhood and be recognized for it while they discuss education with mothers.\\nThese results demonstrate that concerns expressed by parents on Reddit are\\ncontext-sensitive but also consistent with gender stereotypes, potentially\\nreflecting a persistent gendered and unequal division of labour in parenting.</td>\n",
       "      <td>major stride make towards gender equality public life serious inequality remain domestic sphere especially around parenting present study analyse discussion parenting reddit explore audience effect gender stereotype suggest novel method study topical variation individual language interact different audience comment post 2020 collect three parenting subreddit describe father r daddit mother r mommit parent r parenting user post r parenting r daddit r parenting r mommit assume identify father mother respectively allow gender comparison user comment r parenting mixed gender audience compare comment single gender audience r daddit r mommit use lda topic modelling result show discuss topic among parent education family advice topic mainly discuss mixed gender subreddit father mother regard basic need child sleep food medical care mother seem concerned regardless audience contrast topic birth pregnancy announcement physical appearance discuss father father centric subreddit overall finding seem show mother generally concerned practical side parenting father express concern contextual father seem desire show fatherhood recognize discuss education mother result demonstrate concern express parent reddit context sensitive also consistent gender stereotype potentially reflect persistent gendered unequal division labour parenting</td>\n",
       "    </tr>\n",
       "    <tr>\n",
       "      <th>745</th>\n",
       "      <td>1</td>\n",
       "      <td>Modern online platforms offer users an opportunity to participate in a\\nvariety of content-creation, social networking, and shopping activities. With\\nthe rapid proliferation of such online services, learning data-driven user\\nbehavior models is indispensable to enable personalized user experiences.\\nRecently, representation learning has emerged as an effective strategy for user\\nmodeling, powered by neural networks trained over large volumes of interaction\\ndata. Despite their enormous potential, we encounter the unique challenge of\\ndata sparsity for a vast majority of entities, e.g., sparsity in ground-truth\\nlabels for entities and in entity-level interactions (cold-start users, items\\nin the long-tail, and ephemeral groups).\\n  In this dissertation, we develop generalizable neural representation learning\\nframeworks for user behavior modeling designed to address different sparsity\\nchallenges across applications. Our problem settings span transductive and\\ninductive learning scenarios, where transductive learning models entities seen\\nduring training and inductive learning targets entities that are only observed\\nduring inference. We leverage different facets of information reflecting user\\nbehavior (e.g., interconnectivity in social networks, temporal and attributed\\ninteraction information) to enable personalized inference at scale. Our\\nproposed models are complementary to concurrent advances in neural\\narchitectural choices and are adaptive to the rapid addition of new\\napplications in online platforms.</td>\n",
       "      <td>modern online platform offer user opportunity participate variety content creation social networking shopping activity rapid proliferation online service learn data drive user behavior model indispensable enable personalize user experience recently representation learning emerge effective strategy user modeling power neural network train large volume interaction datum despite enormous potential encounter unique challenge datum sparsity vast majority entity eg sparsity ground truth label entity entity level interaction cold start user item long tail ephemeral group dissertation develop generalizable neural representation learn framework user behavior modeling design address different sparsity challenge across application problem setting span transductive inductive learn scenario transductive learning model entity see training inductive learning target entity observe inference leverage different facet information reflect user behavior eg interconnectivity social network temporal attribute interaction information enable personalized inference scale propose model complementary concurrent advance neural architectural choice adaptive rapid addition new application online platform</td>\n",
       "    </tr>\n",
       "    <tr>\n",
       "      <th>779</th>\n",
       "      <td>1</td>\n",
       "      <td>The COVID-19 pandemic has upended daily life around the globe, posing a\\nthreat to public health. Intuitively, we expect that surging cases and deaths\\nwould lead to fear, distress and other negative emotions. However, using\\nstate-of-the-art methods to measure sentiment, emotions, and moral concerns in\\nsocial media messages posted in the early stage of the pandemic, we see a\\ncounter-intuitive rise in positive affect. We hypothesize that the increase of\\npositivity is associated with a decrease of uncertainty and emotion regulation.\\nFinally, we identify a partisan divide in moral and emotional reactions that\\nemerged after the first US death. Overall, these results show how collective\\nemotional states have changed since the pandemic began, and how social media\\ncan provide a useful tool to understand, and even regulate, diverse patterns\\nunderlying human affect.</td>\n",
       "      <td>covid-19 pandemic upend daily life around globe pose threat public health intuitively expect surge case death would lead fear distress negative emotion however use state art method measure sentiment emotion moral concern social medium message post early stage pandemic see counter intuitive rise positive affect hypothesize increase positivity associate decrease uncertainty emotion regulation finally identify partisan divide moral emotional reaction emerge first us death overall result show collective emotional state change since pandemic begin social medium provide useful tool understand even regulate diverse pattern underlie human affect</td>\n",
       "    </tr>\n",
       "    <tr>\n",
       "      <th>789</th>\n",
       "      <td>1</td>\n",
       "      <td>In this paper, we study what users talk about in a plethora of independent\\nhyperlocal and anonymous online communities in a single country: Saudi Arabia\\n(KSA). We base this perspective on performing a content classification of the\\nJodel network in the KSA. To do so, we first contribute a content\\nclassification schema that assesses both the intent (why) and the topic (what)\\nof posts. We use the schema to label 15k randomly sampled posts and further\\nclassify the top 1k hashtags. We observe a rich set of benign (yet at times\\ncontroversial in conservative regimes) intents and topics that dominantly\\naddress information requests, entertainment, or dating/flirting. By comparing\\ntwo large cities (Riyadh and Jeddah), we further show that hyperlocality leads\\nto shifts in topic popularity between local communities. By evaluating votes\\n(content appreciation) and replies (reactions), we show that the communities\\nreact differently to different topics; e.g., entertaining posts are much\\nappreciated through votes, receiving the least replies, while beliefs &amp;\\npolitics receive similarly few replies but are controversially voted.</td>\n",
       "      <td>paper study user talk plethora independent hyperlocal anonymous online community single country saudi arabia ksa base perspective perform content classification jodel network ksa first contribute content classification schema assess intent topic post use schema label 15k randomly sample post far classify top 1k hashtag observe rich set benign yet time controversial conservative regime intent topic dominantly address information request entertainment date flirting compare two large city riyadh jeddah far show hyperlocality lead shift topic popularity local community evaluate vote content appreciation reply reaction show community react differently different topic eg entertaining post much appreciate vote receive least reply belief politic receive similarly reply controversially vote</td>\n",
       "    </tr>\n",
       "  </tbody>\n",
       "</table>\n",
       "</div>"
      ],
      "text/plain": [
       "     cs.CL                                                                                                                                                                                                                                                                                                                                                                                                                                                                                                                                                                                                                                                                                                                                                                                                                                                                                                                                                                                                                                                                                                                                                                                                                                                                                                                                                                                                                                                                                                                                                                                                                                                                                                                                                                                                                                                                                                                                                                                           message_raw  \\\n",
       "175     -1                                                                                                                                                                                                                                                                 This paper introduces the SEAD framework that simplifies the process of\\ndesigning and describing autonomous vehicle platooning manoeuvres. Although a\\nlarge body of research has been formulating platooning manoeuvres, it is still\\nchallenging to design, describe, read, and understand them. This difficulty\\nlargely arises from missing formalisation. To fill this gap, we analysed\\nexisting ways of describing manoeuvres, derived the causes of difficulty, and\\ndesigned a framework that simplifies the manoeuvre design process. Alongside, a\\nManoeuvre Design Language was developed to structurally describe manoeuvres in\\na machine-readable format. Unlike state-of-the-art manoeuvre descriptions that\\nrequire one state machine for every participating vehicle, the SEAD framework\\nallows describing any manoeuvre from the single perspective of the platoon\\nleader. %As a proof of concept, the proposed framework was implemented in the\\nmixed traffic simulation environment BEHAVE for an autonomous highway scenario.\\nUsing this framework, we implemented several manoeuvres as they were described\\nin literature. To demonstrate the applicability of the framework, an experiment\\nwas performed to evaluate the execution time performance of multiple\\nalternatives of the Join-Middle manoeuvre. This proof-of-concept experiment\\nrevealed that the manoeuvre execution time can be reduced by 28 \\% through\\nparallelising various steps without considerable secondary effects. We hope\\nthat the SEAD framework will pave the way for further research in the area of\\nnew manoeuvre design and optimisation by largely simplifying and unifying\\nplatooning manoeuvre representation.   \n",
       "266     -1                                                                                                                                                                                                                                                                                                                                                                                                                                                                                                                                                                                                                                                                                           Successful negotiators must learn how to balance optimizing for self-interest\\nand cooperation. Yet current artificial negotiation agents often heavily depend\\non the quality of the static datasets they were trained on, limiting their\\ncapacity to fashion an adaptive response balancing self-interest and\\ncooperation. For this reason, we find that these agents can achieve either high\\nutility or cooperation, but not both. To address this, we introduce a targeted\\ndata acquisition framework where we guide the exploration of a reinforcement\\nlearning agent using annotations from an expert oracle. The guided exploration\\nincentivizes the learning agent to go beyond its static dataset and develop new\\nnegotiation strategies. We show that this enables our agents to obtain\\nhigher-reward and more Pareto-optimal solutions when negotiating with both\\nsimulated and human partners compared to standard supervised learning and\\nreinforcement learning methods. This trend additionally holds when comparing\\nagents using our targeted data acquisition framework to variants of agents\\ntrained with a mix of supervised learning and reinforcement learning, or to\\nagents using tailored reward functions that explicitly optimize for utility and\\nPareto-optimality.   \n",
       "287      1                                                                                                                                                                                                                                                                                                                                                                                                                                                                                                                                                                                                                                       People have the ability to make sensible assumptions about other people's\\nemotional states by being sympathetic, and because of our common sense of\\nknowledge and the ability to think visually. Over the years, much research has\\nbeen done on providing machines with the ability to detect human emotions and\\nto develop automated emotional intelligence systems. The computer's ability to\\ndetect human emotions is gaining popularity in creating sensitive systems such\\nas learning environments, health care systems and real-world. Improving\\npeople's health has been the subject of much research. This paper describes the\\nformation as conceptual evidence of emotional acquisition and control in\\nintelligent health settings. The authors of this paper aim for an\\nunconventional approach with a friendly look to get emotional scenarios from\\nthe system to establish a functional, non-intrusive and emotionally-sensitive\\nenvironment where users can do their normal activities naturally and see the\\nprogram only when pleasant mood activating services are received. The\\ncontext-sensitive system interacts with users to detect and differentiate\\nemotions through facial expressions or speech recognition, to make music\\nrecommendations and mood color treatments with the services installed on their\\nIoT devices.   \n",
       "389      1                                                                                                                                                                                                                                                                                                                                                                                                                       When we use the wisdom of the crowds, we usually rank the answers according\\nto their popularity, especially when we cannot verify the answers. However,\\nthis can be very dangerous when the majority make systematic mistakes. A\\nfundamental question arises: can we build a hierarchy among the answers\\n\\textit{without any prior} where the higher-ranking answers, which may not be\\nsupported by the majority, are from more sophisticated people? To address the\\nquestion, we propose 1) a novel model to describe people's thinking hierarchy;\\n2) two algorithms to learn the thinking hierarchy without any prior; 3) a novel\\nopen-response based crowdsourcing approach based on the above theoretic\\nframework. In addition to theoretic justifications, we conduct four empirical\\ncrowdsourcing studies and show that a) the accuracy of the top-ranking answers\\nlearned by our approach is much higher than that of plurality voting (In one\\nquestion, the plurality answer is supported by 74 respondents but the correct\\nanswer is only supported by 3 respondents. Our approach ranks the correct\\nanswer the highest without any prior); b) our model has a high goodness-of-fit,\\nespecially for the questions where our top-ranking answer is correct. To the\\nbest of our knowledge, we are the first to propose a thinking hierarchy model\\nwith empirical validations in the general problem-solving scenarios; and the\\nfirst to propose a practical open-response based crowdsourcing approach that\\nbeats plurality voting without any prior.   \n",
       "425      1                                                                                                                                                                                                                                                                                                                                                                                                                                                          Distributed data-parallel training has been widely adopted for deep neural\\nnetwork (DNN) models. Although current deep learning (DL) frameworks scale well\\nfor dense models like image classification models, we find that these DL\\nframeworks have relatively low scalability for sparse models like natural\\nlanguage processing (NLP) models that have highly sparse embedding tables. Most\\nexisting works overlook the sparsity of model parameters thus suffering from\\nsignificant but unnecessary communication overhead. In this paper, we propose\\nEmbRace, an efficient communication framework to accelerate communications of\\ndistributed training for sparse models. EmbRace introduces Sparsity-aware\\nHybrid Communication, which integrates AlltoAll and model parallelism into\\ndata-parallel training, so as to reduce the communication overhead of highly\\nsparse parameters. To effectively overlap sparse communication with both\\nbackward and forward computation, EmbRace further designs a 2D Communication\\nScheduling approach which optimizes the model computation procedure, relaxes\\nthe dependency of embeddings, and schedules the sparse communications of each\\nembedding row with a priority queue. We have implemented a prototype of EmbRace\\nbased on PyTorch and Horovod, and conducted comprehensive evaluations with four\\nrepresentative NLP models. Experimental results show that EmbRace achieves up\\nto 2.41X speedup compared to the state-of-the-art distributed training\\nbaselines.   \n",
       "493      1                                                                                                                                                                                                                                                                                                                                                                                                                                                                                                                                                                                                                                                                                                                                                                                                                                                                                                                                                                                                                                                                                                                                 The availability and interactive nature of social media have made them the\\nprimary source of news around the globe. The popularity of social media tempts\\ncriminals to pursue their immoral intentions by producing and disseminating\\nfake news using seductive text and misleading images. Therefore, verifying\\nsocial media news and spotting fakes is crucial. This work aims to analyze\\nmulti-modal features from texts and images in social media for detecting fake\\nnews. We propose a Fake News Revealer (FNR) method that utilizes transform\\nlearning to extract contextual and semantic features and contrastive loss to\\ndetermine the similarity between image and text. We applied FNR on two real\\nsocial media datasets. The results show the proposed method achieves higher\\naccuracies in detecting fake news compared to the previous works.   \n",
       "494      1                                                                                                                                                                                                                                                                                                                                                                                                                                                                                   Understanding how different online communities engage with COVID-19\\nmisinformation is critical for public health response, as misinformation\\nconfined to a small, isolated community of users poses a different public\\nhealth risk than misinformation being consumed by a large population spanning\\nmany diverse communities. Here we take a longitudinal approach that leverages\\ntools from network science to study COVID-19 misinformation on Twitter. Our\\napproach provides a means to examine the breadth of misinformation engagement\\nusing modest data needs and computational resources. We identify influential\\naccounts from different Twitter communities discussing COVID-19, and follow\\nthese `sentinel nodes' longitudinally from July 2020 to January 2021. We\\ncharacterize sentinel nodes in terms of a linked-media preference score, and\\nuse a standardized similarity score to examine alignment of tweets within and\\nbetween communities. We find that media preference is strongly correlated with\\nthe amount of misinformation propagated by sentinel nodes. Engagement with\\nsensationalist misinformation topics is largely confined to a cluster of\\nsentinel nodes that includes influential conspiracy theorist accounts, while\\nmisinformation relating to COVID-19 severity generated widespread engagement\\nacross multiple communities. Our findings indicate that misinformation\\ndownplaying COVID-19 severity is of particular concern for public health\\nresponse.   \n",
       "518      1                                                                                                                                                                                                                                                                                                          Adoption of recently developed methods from machine learning has given rise\\nto creation of drug-discovery knowledge graphs (KG) that utilize the\\ninterconnected nature of the domain. Graph-based modelling of the data,\\ncombined with KG embedding (KGE) methods, are promising as they provide a more\\nintuitive representation and are suitable for inference tasks such as\\npredicting missing links. One common application is to produce ranked lists of\\ngenes for a given disease, where the rank is based on the perceived likelihood\\nof association between the gene and the disease. It is thus critical that these\\npredictions are not only pertinent but also biologically meaningful. However,\\nKGs can be biased either directly due to the underlying data sources that are\\nintegrated or due to modeling choices in the construction of the graph, one\\nconsequence of which is that certain entities can get topologically\\noverrepresented. We demonstrate the effect of these inherent structural\\nimbalances, resulting in densely-connected entities being highly ranked no\\nmatter the context. We provide support for this observation across different\\ndatasets, models as well as predictive tasks. Further, we present various graph\\nperturbation experiments which yield more support to the observation that KGE\\nmodels can be more influenced by the frequency of entities rather than any\\nbiological information encoded within the relations. Our results highlight the\\nimportance of data modeling choices, and emphasizes the need for practitioners\\nto be mindful of these issues when interpreting model outputs and during KG\\ncomposition.   \n",
       "525      1                                                                                                                                                                                                                                                                                                                                                                                                                                                                                                                                                                                                                                                                                                                                                                                                                                                                                                                                                                                                        The increasing focus on Web 3.0 is leading to automated creation and\\nenrichment of ontologies and other linked datasets. Alongside automation,\\nquality evaluation of enriched ontologies can impact software reliability and\\nreuse. Current quality evaluation approaches oftentimes seek to evaluate\\nontologies in either syntactic (degree of following ontology development\\nguidelines) or semantic (degree of semantic validity of enriched\\nconcepts/relations) aspects. This paper proposes an ontology quality evaluation\\nframework consisting of: (a) SynEvaluator and (b) SemValidator for evaluating\\nsyntactic and semantic aspects of ontologies respectively. SynEvaluator allows\\ndynamic task-specific creation and updation of syntactic rules at run-time\\nwithout any need for programming. SemValidator uses Twitter-based expertise of\\nvalidators for semantic evaluation. The efficacy and validity of the framework\\nis shown empirically on multiple ontologies.   \n",
       "530      1                                                                                                                                                                                                                                                                                                                                                                                                                                                                                                                                                                                                                                                                                                                                                                                                                                                                                                                                                                                                                                                                                                                                                                                   Entity type prediction is an important problem in knowledge graph (KG)\\nresearch. A new KG entity type prediction method, named CORE (COmplex space\\nRegression and Embedding), is proposed in this work. The proposed CORE method\\nleverages the expressive power of two complex space embedding models; namely,\\nRotatE and ComplEx models. It embeds entities and types in two different\\ncomplex spaces using either RotatE or ComplEx. Then, we derive a complex\\nregression model to link these two spaces. Finally, a mechanism to optimize\\nembedding and regression parameters jointly is introduced. Experiments show\\nthat CORE outperforms benchmarking methods on representative KG entity type\\ninference datasets. Strengths and weaknesses of various entity type prediction\\nmethods are analyzed.   \n",
       "546      1                                                                                                                                                                                                                                                                                                                                                       Graphs can represent relational information among entities and graph\\nstructures are widely used in many intelligent tasks such as search,\\nrecommendation, and question answering. However, most of the graph-structured\\ndata in practice suffers from incompleteness, and thus link prediction becomes\\nan important research problem. Though many models are proposed for link\\nprediction, the following two problems are still less explored: (1) Most\\nmethods model each link independently without making use of the rich\\ninformation from relevant links, and (2) existing models are mostly designed\\nbased on associative learning and do not take reasoning into consideration.\\nWith these concerns, in this paper, we propose Graph Collaborative Reasoning\\n(GCR), which can use the neighbor link information for relational reasoning on\\ngraphs from logical reasoning perspectives. We provide a simple approach to\\ntranslate a graph structure into logical expressions, so that the link\\nprediction task can be converted into a neural logic reasoning problem. We\\napply logical constrained neural modules to build the network architecture\\naccording to the logical expression and use back propagation to efficiently\\nlearn the model parameters, which bridges differentiable learning and symbolic\\nreasoning in a unified architecture. To show the effectiveness of our work, we\\nconduct experiments on graph-related tasks such as link prediction and\\nrecommendation based on commonly used benchmark datasets, and our graph\\ncollaborative reasoning approach achieves state-of-the-art performance.   \n",
       "597     -1                                                                                                                                                                                                                                                                                                                                                                                                                             Loneliness has been associated with negative outcomes for physical and mental\\nhealth. Understanding how people express and cope with various forms of\\nloneliness is critical for early screening and targeted interventions to reduce\\nloneliness, particularly among vulnerable groups such as young adults. To\\nexamine how different forms of loneliness and coping strategies manifest in\\nloneliness self-disclosure, we built a dataset, FIG-Loneliness (FIne-Grained\\nLoneliness) by using Reddit posts in two young adult-focused forums and two\\nloneliness related forums consisting of a diverse age group. We provided\\nannotations by trained human annotators for binary and fine-grained loneliness\\nclassifications of the posts. Trained on FIG-Loneliness, two BERT-based models\\nwere used to understand loneliness forms and authors' coping strategies in\\nthese forums. Our binary loneliness classification achieved an accuracy above\\n97%, and fine-grained loneliness category classification reached an average\\naccuracy of 77% across all labeled categories. With FIG-Loneliness and model\\npredictions, we found that loneliness expressions in the young adults related\\nforums were distinct from other forums. Those in young adult-focused forums\\nwere more likely to express concerns pertaining to peer relationship, and were\\npotentially more sensitive to geographical isolation impacted by the COVID-19\\npandemic lockdown. Also, we showed that different forms of loneliness have\\ndifferential use in coping strategies.   \n",
       "599      1                                                                                                                                                                                                                                                                                                                                                                                                                                                                                                                                                                                                                                                                                        Sudden Unexpected Death in Epilepsy (SUDEP) remains a leading cause of death\\nin people with epilepsy. Despite the constant risk for patients and bereavement\\nto family members, to date the physiological mechanisms of SUDEP remain\\nunknown. Here we explore the potential to identify putative predictive signals\\nof SUDEP from online digital behavioral data using text and sentiment analysis.\\nSpecifically, we analyze Facebook timelines of six epilepsy patients deceased\\ndue to SUDEP, donated by surviving family members. We find preliminary evidence\\nfor behavioral changes detectable by text and sentiment analysis tools. Namely,\\nin the months preceding their SUDEP event patient social media timelines show:\\ni) increase in verbosity; ii) increased use of functional words; and iii)\\nsentiment shifts as measured by different sentiment analysis tools. Combined,\\nthese results suggest that social media engagement, as well as its sentiment,\\nmay serve as possible early-warning signals for SUDEP in people with epilepsy.\\nWhile the small sample of patient timelines analyzed in this study prevents\\ngeneralization, our preliminary investigation demonstrates the potential of\\nsocial media data as complementary data in larger studies of SUDEP and\\nepilepsy.   \n",
       "653      1                                                                                                                                                                                                                                                                                                                                                                                                                                                                                                                                                                                                                                           While false rumors pose a threat to the successful overcoming of the COVID-19\\npandemic, an understanding of how rumors diffuse in online social networks is -\\neven for non-crisis situations - still in its infancy. Here we analyze a large\\nsample consisting of COVID-19 rumor cascades from Twitter that have been\\nfact-checked by third-party organizations. The data comprises N=10,610 rumor\\ncascades that have been retweeted more than 24 million times. We investigate\\nwhether COVID-19 misinformation spreads more viral than the truth and whether\\nthe differences in the diffusion of true vs. false rumors can be explained by\\nthe moral emotions they carry. We observe that, on average, COVID-19\\nmisinformation is more likely to go viral than truthful information. However,\\nthe veracity effect is moderated by moral emotions: false rumors are more viral\\nthan the truth if the source tweets embed a high number of other-condemning\\nemotion words, whereas a higher number of self-conscious emotion words is\\nlinked to a less viral spread. The effects are pronounced both for health\\nmisinformation and false political rumors. These findings offer insights into\\nhow true vs. false rumors spread and highlight the importance of considering\\nemotions from the moral emotion families in social media content.   \n",
       "662      1                                                                                                                                                                                                                                                                                                                                                                                                                                                                                                                                                                                                                                                                                                                                                                                                                                                                                                                                                                                                                                                                                                 The outbreak of the SARS-CoV-2 novel coronavirus (COVID-19) has been\\naccompanied by a large amount of misleading and false information about the\\nvirus, especially on social media. During the pandemic social media gained\\nspecial interest as it went on to become an important medium of communication.\\nThis made the information being relayed on these platforms especially critical.\\nIn our work, we aim to explore the percentage of fake news being spread on\\nTwitter as well as measure the sentiment of the public at the same time. We\\nfurther study how the sentiment of fear is present among the public. In\\naddition to that we compare the rate of spread of the virus per day with the\\nrate of spread of fake news on Twitter. Our study is useful in establishing the\\nrole of Twitter, and social media, during a crisis, and more specifically\\nduring crisis management.   \n",
       "686      1                                                                                                                                                                                                                                                                                                                                                                                                                                                                                                                                                                                                                                      How can we perform knowledge reasoning over temporal knowledge graphs (TKGs)?\\nTKGs represent facts about entities and their relations, where each fact is\\nassociated with a timestamp. Reasoning over TKGs, i.e., inferring new facts\\nfrom time-evolving KGs, is crucial for many applications to provide intelligent\\nservices. However, despite the prevalence of real-world data that can be\\nrepresented as TKGs, most methods focus on reasoning over static knowledge\\ngraphs, or cannot predict future events. In this paper, we present a problem\\nformulation that unifies the two major problems that need to be addressed for\\nan effective reasoning over TKGs, namely, modeling the event time and the\\nevolving network structure. Our proposed method EvoKG jointly models both tasks\\nin an effective framework, which captures the ever-changing structural and\\ntemporal dynamics in TKGs via recurrent event modeling, and models the\\ninteractions between entities based on the temporal neighborhood aggregation\\nframework. Further, EvoKG achieves an accurate modeling of event time, using\\nflexible and efficient mechanisms based on neural density estimation.\\nExperiments show that EvoKG outperforms existing methods in terms of\\neffectiveness (up to 77% and 116% more accurate time and link prediction) and\\nefficiency.   \n",
       "740      1  While major strides have been made towards gender equality in public life,\\nserious inequality remains in the domestic sphere, especially around parenting.\\nThe present study analyses discussions about parenting on Reddit to explore\\naudience effects and gender stereotypes. It suggests a novel method to study\\ntopical variation in individuals' language when interacting with different\\naudiences. Comments posted in 2020 were collected from three parenting\\nsubreddits, described as being for fathers (r/Daddit), mothers (r/Mommit), and\\nall parents (r/Parenting). Users posting on r/Parenting and r/Daddit or on\\nr/Parenting and r/Mommit were assumed to identify as fathers or mothers,\\nrespectively, allowing gender comparison. Users' comments on r/Parenting (to a\\nmixed-gender audience) were compared with their comments to single-gender\\naudiences on r/Daddit or r/Mommit using LDA topic modelling. Results showed\\nthat the most discussed topic among parents is about education and family\\nadvice, a topic mainly discussed in the mixed-gender subreddit and more by\\nfathers than mothers. Regarding the basic needs of children (sleep, food, and\\nmedical care), mothers seemed to be more concerned regardless of the audience.\\nIn contrast, topics such as birth and pregnancy announcements and physical\\nappearance were more discussed by fathers in the father-centric subreddit.\\nOverall, findings seem to show that mothers are generally more concerned about\\nthe practical sides of parenting while fathers' expressed concerns are more\\ncontextual: with other fathers, there seems to be a desire to show their\\nfatherhood and be recognized for it while they discuss education with mothers.\\nThese results demonstrate that concerns expressed by parents on Reddit are\\ncontext-sensitive but also consistent with gender stereotypes, potentially\\nreflecting a persistent gendered and unequal division of labour in parenting.   \n",
       "745      1                                                                                                                                                                                                                                                                                                                                                                                                     Modern online platforms offer users an opportunity to participate in a\\nvariety of content-creation, social networking, and shopping activities. With\\nthe rapid proliferation of such online services, learning data-driven user\\nbehavior models is indispensable to enable personalized user experiences.\\nRecently, representation learning has emerged as an effective strategy for user\\nmodeling, powered by neural networks trained over large volumes of interaction\\ndata. Despite their enormous potential, we encounter the unique challenge of\\ndata sparsity for a vast majority of entities, e.g., sparsity in ground-truth\\nlabels for entities and in entity-level interactions (cold-start users, items\\nin the long-tail, and ephemeral groups).\\n  In this dissertation, we develop generalizable neural representation learning\\nframeworks for user behavior modeling designed to address different sparsity\\nchallenges across applications. Our problem settings span transductive and\\ninductive learning scenarios, where transductive learning models entities seen\\nduring training and inductive learning targets entities that are only observed\\nduring inference. We leverage different facets of information reflecting user\\nbehavior (e.g., interconnectivity in social networks, temporal and attributed\\ninteraction information) to enable personalized inference at scale. Our\\nproposed models are complementary to concurrent advances in neural\\narchitectural choices and are adaptive to the rapid addition of new\\napplications in online platforms.   \n",
       "779      1                                                                                                                                                                                                                                                                                                                                                                                                                                                                                                                                                                                                                                                                                                                                                                                                                                                                                                                                                                                                                                                                                        The COVID-19 pandemic has upended daily life around the globe, posing a\\nthreat to public health. Intuitively, we expect that surging cases and deaths\\nwould lead to fear, distress and other negative emotions. However, using\\nstate-of-the-art methods to measure sentiment, emotions, and moral concerns in\\nsocial media messages posted in the early stage of the pandemic, we see a\\ncounter-intuitive rise in positive affect. We hypothesize that the increase of\\npositivity is associated with a decrease of uncertainty and emotion regulation.\\nFinally, we identify a partisan divide in moral and emotional reactions that\\nemerged after the first US death. Overall, these results show how collective\\nemotional states have changed since the pandemic began, and how social media\\ncan provide a useful tool to understand, and even regulate, diverse patterns\\nunderlying human affect.   \n",
       "789      1                                                                                                                                                                                                                                                                                                                                                                                                                                                                                                                                                                                                                                                                                                                                                                                                                 In this paper, we study what users talk about in a plethora of independent\\nhyperlocal and anonymous online communities in a single country: Saudi Arabia\\n(KSA). We base this perspective on performing a content classification of the\\nJodel network in the KSA. To do so, we first contribute a content\\nclassification schema that assesses both the intent (why) and the topic (what)\\nof posts. We use the schema to label 15k randomly sampled posts and further\\nclassify the top 1k hashtags. We observe a rich set of benign (yet at times\\ncontroversial in conservative regimes) intents and topics that dominantly\\naddress information requests, entertainment, or dating/flirting. By comparing\\ntwo large cities (Riyadh and Jeddah), we further show that hyperlocality leads\\nto shifts in topic popularity between local communities. By evaluating votes\\n(content appreciation) and replies (reactions), we show that the communities\\nreact differently to different topics; e.g., entertaining posts are much\\nappreciated through votes, receiving the least replies, while beliefs &\\npolitics receive similarly few replies but are controversially voted.   \n",
       "\n",
       "                                                                                                                                                                                                                                                                                                                                                                                                                                                                                                                                                                                                                                                                                                                                                                                                                                                                                                                                                                                                                                                                                                                                                                                                                                                                                                                                                                                 message_cleaned  \n",
       "175                                                                                                                               paper introduce sead framework simplify process design describe autonomous vehicle platoone manoeuvre although large body research formulate platoone manoeuvre still challenge design describe read understand difficulty largely arise miss formalisation fill gap analyse exist way describe manoeuvre derive cause difficulty design framework simplify manoeuvre design process alongside manoeuvre design language develop structurally describe manoeuvre machine readable format unlike state art manoeuvre description require one state machine every participate vehicle sead framework allow describe manoeuvre single perspective platoon leader proof concept propose framework implement mixed traffic simulation environment behave autonomous highway scenario use framework implement several manoeuvre describe literature demonstrate applicability framework experiment perform evaluate execution time performance multiple alternative join middle manoeuvre proof concept experiment reveal manoeuvre execution time reduce 28 parallelise various step without considerable secondary effect hope sead framework pave way research area new manoeuvre design optimisation largely simplify unifying platoone manoeuvre representation  \n",
       "266                                                                                                                                                                                                                                                                                                                                                                                                                                               successful negotiator must learn balance optimize self interest cooperation yet current artificial negotiation agent often heavily depend quality static dataset train limit capacity fashion adaptive response balance self interest cooperation reason find agent achieve either high utility cooperation address introduce target datum acquisition framework guide exploration reinforcement learn agent use annotation expert oracle guide exploration incentivize learn agent go beyond static dataset develop new negotiation strategy show enable agent obtain high reward pareto optimal solution negotiate simulated human partner compare standard supervised learning reinforcement learning method trend additionally hold compare agent use target datum acquisition framework variant agent train mix supervised learning reinforcement learning agent use tailor reward function explicitly optimize utility pareto optimality  \n",
       "287                                                                                                                                                                                                                                                                                                                                                                                                                                        people ability make sensible assumption people emotional state sympathetic common sense knowledge ability think visually year much research provide machine ability detect human emotion develop automate emotional intelligence system computer ability detect human emotion gain popularity create sensitive system learn environment health care system real world improve people health subject much research paper describe formation conceptual evidence emotional acquisition control intelligent health setting author paper aim unconventional approach friendly look get emotional scenario system establish functional non intrusive emotionally sensitive environment user normal activity naturally see program pleasant mood activate service receive context sensitive system interact user detect differentiate emotion facial expression speech recognition make music recommendation mood color treatment service instal iot device  \n",
       "389                                                                                                                                                                                                                                                                                                                       use wisdom crowd usually rank answer accord popularity especially verify answer however dangerous majority make systematic mistake fundamental question arise build hierarchy among answer textitwithout prior higher rank answer may support majority sophisticated people address question propose 1 novel model describe people thinking hierarchy 2 two algorithm learn thinking hierarchy without prior 3 novel open response base crowdsourcing approach base theoretic framework addition theoretic justification conduct four empirical crowdsourcing study show accuracy top rank answer learn approach much high plurality voting one question plurality answer support 74 respondent correct answer support 3 respondent approach rank correct answer high without prior b model high goodness fit especially question top rank answer correct good knowledge first propose think hierarchy model empirical validation general problem solve scenario first propose practical open response base crowdsourcing approach beat plurality voting without prior  \n",
       "425                                                                                                                                                                                                   distribute data parallel training widely adopt deep neural network dnn model although current deep learning dl framework scale well dense model like image classification model find dl framework relatively low scalability sparse model like natural language processing nlp model highly sparse embed table exist work overlook sparsity model parameter thus suffer significant unnecessary communication overhead paper propose embrace efficient communication framework accelerate communication distribute training sparse model embrace introduce sparsity aware hybrid communication integrate alltoall model parallelism data parallel training reduce communication overhead highly sparse parameter effectively overlap sparse communication backward forward computation embrace far design 2d communication scheduling approach optimize model computation procedure relax dependency embedding schedule sparse communication embed row priority queue implement prototype embrace base pytorch horovod conduct comprehensive evaluation four representative nlp model experimental result show embrace achieve 241x speedup compare state art distribute training baseline  \n",
       "493                                                                                                                                                                                                                                                                                                                                                                                                                                                                                                                                                                                                                                                                                                                                              availability interactive nature social medium make primary source news around globe popularity social medium tempt criminal pursue immoral intention produce disseminate fake news use seductive text misleading image therefore verify social medium news spot fake crucial work aim analyze multi modal feature text image social medium detect fake news propose fake news revealer fnr method utilize transform learn extract contextual semantic feature contrastive loss determine similarity image text apply fnr two real social medium dataset result show propose method achieve high accuracy detect fake news compare previous work  \n",
       "494                                                                                                                                                                                               understand different online community engage covid-19 misinformation critical public health response misinformation confine small isolated community user pose different public health risk misinformation consume large population span many diverse community take longitudinal approach leverage tool network science study covid-19 misinformation twitter approach provide means examine breadth misinformation engagement use modest datum need computational resource identify influential account different twitter community discuss covid-19 follow sentinel nodes longitudinally july 2020 january 2021 characterize sentinel node term link medium preference score use standardized similarity score examine alignment tweet within community find medium preference strongly correlate amount misinformation propagate sentinel nodes engagement sensationalist misinformation topic largely confine cluster sentinel node include influential conspiracy theorist account misinformation relate covid-19 severity generate widespread engagement across multiple community finding indicate misinformation downplay covid-19 severity particular concern public health response  \n",
       "518                                                                                                                                                                                                                                         adoption recently develop method machine learning give rise creation drug discovery knowledge graph kg utilize interconnect nature domain graph base modelling datum combine kg embed kge method promise provide intuitive representation suitable inference task predict missing link one common application produce rank list gene give disease rank base perceive likelihood association gene disease thus critical prediction pertinent also biologically meaningful however kg bias either directly due underlie data source integrate due modeling choice construction graph one consequence certain entity get topologically overrepresente demonstrate effect inherent structural imbalance result densely connect entity highly rank matter context provide support observation across different dataset model well predictive task far present various graph perturbation experiment yield support observation kge model influence frequency entity rather biological information encode within relation result highlight importance datum modeling choice emphasize need practitioner mindful issue interpret model output kg composition  \n",
       "525                                                                                                                                                                                                                                                                                                                                                                                                                                                                                                                                                                                                                increase focus web 30 lead automate creation enrichment ontology link dataset alongside automation quality evaluation enrich ontology impact software reliability reuse current quality evaluation approach oftentime seek evaluate ontology either syntactic degree follow ontology development guideline semantic degree semantic validity enrich concept relation aspect paper propose ontology quality evaluation framework consist synevaluator b semvalidator evaluate syntactic semantic aspect ontology respectively synevaluator allow dynamic task specific creation updation syntactic rule run time without need programming semvalidator use twitter base expertise validator semantic evaluation efficacy validity framework show empirically multiple ontology  \n",
       "530                                                                                                                                                                                                                                                                                                                                                                                                                                                                                                                                                                                                                                                                                                                                                 entity type prediction important problem knowledge graph kg research new kg entity type prediction method name core complex space regression embedding propose work propose core method leverage expressive power two complex space embed model namely rotate complex model embed entity type two different complex space use either rotate complex derive complex regression model link two space finally mechanism optimize embed regression parameter jointly introduce experiment show core outperform benchmarke method representative kg entity type inference dataset strength weakness various entity type prediction method analyze  \n",
       "546                                                                                                                                                         graph represent relational information among entity graph structure widely use many intelligent task search recommendation question answer however graph structured datum practice suffer incompleteness thus link prediction become important research problem though many model propose link prediction follow two problem still less explore 1 method model link independently without make use rich information relevant link 2 exist model mostly design base associative learning take reasoning consideration concern paper propose graph collaborative reasoning gcr use neighbor link information relational reasoning graph logical reasoning perspective provide simple approach translate graph structure logical expression link prediction task convert neural logic reasoning problem apply logical constrained neural module build network architecture accord logical expression use back propagation efficiently learn model parameter bridge differentiable learning symbolic reasoning unified architecture show effectiveness work conduct experiment graph relate task link prediction recommendation base commonly use benchmark dataset graph collaborative reasoning approach achieve state art performance  \n",
       "597                                                                                                                                                                                                                                  loneliness associate negative outcome physical mental health understand people express cope various form loneliness critical early screening target intervention reduce loneliness particularly among vulnerable group young adult examine different form loneliness cope strategy manifest loneliness self disclosure build dataset fig loneliness fine grained loneliness use reddit post two young adult focus forum two loneliness relate forum consist diverse age group provide annotation train human annotator binary fine grain loneliness classification post train fig loneliness two bert base model use understand loneliness form author cope strategy forum binary loneliness classification achieve accuracy 97 fine grain loneliness category classification reach average accuracy 77 across label category fig loneliness model prediction find loneliness expression young adult relate forum distinct forum young adult focus forum likely express concern pertain peer relationship potentially sensitive geographical isolation impact covid-19 pandemic lockdown also show different form loneliness differential use cope strategy  \n",
       "599                                                                                                                                                                                                                                                                                                                                                                        sudden unexpected death epilepsy sudep remain lead cause death people epilepsy despite constant risk patient bereavement family member date physiological mechanism sudep remain unknown explore potential identify putative predictive signal sudep online digital behavioral datum use text sentiment analysis specifically analyze facebook timeline six epilepsy patient decease due sudep donate survive family member find preliminary evidence behavioral change detectable text sentiment analysis tool namely month precede sudep event patient social medium timeline show increase verbosity ii increase use functional word iii sentiment shift measure different sentiment analysis tool combine result suggest social medium engagement well sentiment may serve possible early warn signal sudep people epilepsy small sample patient timeline analyze study prevent generalization preliminary investigation demonstrate potential social medium datum complementary datum large study sudep epilepsy  \n",
       "653                                                                                                                                                                                                                                                                                                                                                                                                                                             false rumor pose threat successful overcoming covid-19 pandemic understanding rumor diffuse online social network even non crisis situation still infancy analyze large sample consist covid-19 rumor cascade twitter fact check third party organization datum comprise n10610 rumor cascade retweete 24 million time investigate whether covid-19 misinformation spread viral truth whether difference diffusion true vs false rumor explain moral emotion carry observe average covid-19 misinformation likely go viral truthful information however veracity effect moderate moral emotion false rumor viral truth source tweet embed high number condemn emotion word whereas high number self conscious emotion word link less viral spread effect pronounce health misinformation false political rumor finding offer insight true vs false rumor spread highlight importance consider emotion moral emotion family social medium content  \n",
       "662                                                                                                                                                                                                                                                                                                                                                                                                                                                                                                                                                                                                                                                                                                                                                                                                           outbreak sars cov-2 novel coronavirus covid-19 accompany large amount misleading false information virus especially social medium pandemic social medium gain special interest go become important medium communication make information relay platform especially critical work aim explore percentage fake news spread twitter well measure sentiment public time far study sentiment fear present among public addition compare rate spread virus per day rate spread fake news twitter study useful establish role twitter social medium crisis specifically crisis management  \n",
       "686                                                                                                                                                                                                                                                                                                                                                                                                                                         perform knowledge reason temporal knowledge graph tkgs tkg represent fact entity relation fact associate timestamp reason tkg ie infer new fact time evolve kg crucial many application provide intelligent service however despite prevalence real world datum represent tkg method focus reason static knowledge graph predict future event paper present problem formulation unify two major problem need address effective reasoning tkg namely model event time evolve network structure propose method evokg jointly model task effective framework capture ever change structural temporal dynamic tkg via recurrent event modeling model interaction entity base temporal neighborhood aggregation framework far evokg achieve accurate modeling event time use flexible efficient mechanism base neural density estimation experiment show evokg outperform exist method term effectiveness 77 116 accurate time link prediction efficiency  \n",
       "740  major stride make towards gender equality public life serious inequality remain domestic sphere especially around parenting present study analyse discussion parenting reddit explore audience effect gender stereotype suggest novel method study topical variation individual language interact different audience comment post 2020 collect three parenting subreddit describe father r daddit mother r mommit parent r parenting user post r parenting r daddit r parenting r mommit assume identify father mother respectively allow gender comparison user comment r parenting mixed gender audience compare comment single gender audience r daddit r mommit use lda topic modelling result show discuss topic among parent education family advice topic mainly discuss mixed gender subreddit father mother regard basic need child sleep food medical care mother seem concerned regardless audience contrast topic birth pregnancy announcement physical appearance discuss father father centric subreddit overall finding seem show mother generally concerned practical side parenting father express concern contextual father seem desire show fatherhood recognize discuss education mother result demonstrate concern express parent reddit context sensitive also consistent gender stereotype potentially reflect persistent gendered unequal division labour parenting  \n",
       "745                                                                                                                                                     modern online platform offer user opportunity participate variety content creation social networking shopping activity rapid proliferation online service learn data drive user behavior model indispensable enable personalize user experience recently representation learning emerge effective strategy user modeling power neural network train large volume interaction datum despite enormous potential encounter unique challenge datum sparsity vast majority entity eg sparsity ground truth label entity entity level interaction cold start user item long tail ephemeral group dissertation develop generalizable neural representation learn framework user behavior modeling design address different sparsity challenge across application problem setting span transductive inductive learn scenario transductive learning model entity see training inductive learning target entity observe inference leverage different facet information reflect user behavior eg interconnectivity social network temporal attribute interaction information enable personalized inference scale propose model complementary concurrent advance neural architectural choice adaptive rapid addition new application online platform  \n",
       "779                                                                                                                                                                                                                                                                                                                                                                                                                                                                                                                                                                                                                                                                                                                        covid-19 pandemic upend daily life around globe pose threat public health intuitively expect surge case death would lead fear distress negative emotion however use state art method measure sentiment emotion moral concern social medium message post early stage pandemic see counter intuitive rise positive affect hypothesize increase positivity associate decrease uncertainty emotion regulation finally identify partisan divide moral emotional reaction emerge first us death overall result show collective emotional state change since pandemic begin social medium provide useful tool understand even regulate diverse pattern underlie human affect  \n",
       "789                                                                                                                                                                                                                                                                                                                                                                                                                                                                                                                                                                     paper study user talk plethora independent hyperlocal anonymous online community single country saudi arabia ksa base perspective perform content classification jodel network ksa first contribute content classification schema assess intent topic post use schema label 15k randomly sample post far classify top 1k hashtag observe rich set benign yet time controversial conservative regime intent topic dominantly address information request entertainment date flirting compare two large city riyadh jeddah far show hyperlocality lead shift topic popularity local community evaluate vote content appreciation reply reaction show community react differently different topic eg entertaining post much appreciate vote receive least reply belief politic receive similarly reply controversially vote  "
      ]
     },
     "metadata": {},
     "output_type": "display_data"
    }
   ],
   "source": [
    "loi = labels[0]\n",
    "taxonomy[loi]\n",
    "\n",
    "comparison[comparison[loi] != 0][[loi, \"message_raw\", \"message_cleaned\"]].head(20).display_fully()"
   ]
  },
  {
   "cell_type": "code",
   "execution_count": 118,
   "metadata": {},
   "outputs": [
    {
     "name": "stderr",
     "output_type": "stream",
     "text": [
      "/tmp/ipykernel_7473/685067783.py:46: UserWarning:\n",
      "\n",
      "Matplotlib is currently using module://matplotlib_inline.backend_inline, which is a non-GUI backend, so cannot show the figure.\n",
      "\n"
     ]
    },
    {
     "data": {
      "text/html": [
       "<div>\n",
       "<style scoped>\n",
       "    .dataframe tbody tr th:only-of-type {\n",
       "        vertical-align: middle;\n",
       "    }\n",
       "\n",
       "    .dataframe tbody tr th {\n",
       "        vertical-align: top;\n",
       "    }\n",
       "\n",
       "    .dataframe thead th {\n",
       "        text-align: right;\n",
       "    }\n",
       "</style>\n",
       "<table border=\"1\" class=\"dataframe\">\n",
       "  <thead>\n",
       "    <tr style=\"text-align: right;\">\n",
       "      <th></th>\n",
       "      <th>Computation and Language</th>\n",
       "      <th>Computer Vision and Pattern Recognition</th>\n",
       "      <th>Computers and Society</th>\n",
       "      <th>Computer Science and Game Theory</th>\n",
       "      <th>Machine Learning</th>\n",
       "      <th>Multiagent Systems</th>\n",
       "      <th>Robotics</th>\n",
       "      <th>Social and Information Networks</th>\n",
       "      <th>Audio and Speech Processing</th>\n",
       "      <th>Signal Processing</th>\n",
       "      <th>Systems and Control</th>\n",
       "      <th>Numerical Analysis</th>\n",
       "      <th>Optimization and Control</th>\n",
       "      <th>Statistics Theory</th>\n",
       "    </tr>\n",
       "  </thead>\n",
       "  <tbody>\n",
       "    <tr>\n",
       "      <th>0</th>\n",
       "      <td>model</td>\n",
       "      <td>image</td>\n",
       "      <td>datum</td>\n",
       "      <td>game</td>\n",
       "      <td>learning</td>\n",
       "      <td>agent</td>\n",
       "      <td>robot</td>\n",
       "      <td>network</td>\n",
       "      <td>speech</td>\n",
       "      <td>propose</td>\n",
       "      <td>system</td>\n",
       "      <td>method</td>\n",
       "      <td>problem</td>\n",
       "      <td>distribution</td>\n",
       "    </tr>\n",
       "    <tr>\n",
       "      <th>1</th>\n",
       "      <td>language</td>\n",
       "      <td>dataset</td>\n",
       "      <td>fairness</td>\n",
       "      <td>agent</td>\n",
       "      <td>neural</td>\n",
       "      <td>multi</td>\n",
       "      <td>task</td>\n",
       "      <td>graph</td>\n",
       "      <td>model</td>\n",
       "      <td>signal</td>\n",
       "      <td>control</td>\n",
       "      <td>numerical</td>\n",
       "      <td>optimization</td>\n",
       "      <td>datum</td>\n",
       "    </tr>\n",
       "    <tr>\n",
       "      <th>2</th>\n",
       "      <td>task</td>\n",
       "      <td>method</td>\n",
       "      <td>ai</td>\n",
       "      <td>mechanism</td>\n",
       "      <td>model</td>\n",
       "      <td>system</td>\n",
       "      <td>robotic</td>\n",
       "      <td>social</td>\n",
       "      <td>audio</td>\n",
       "      <td>base</td>\n",
       "      <td>propose</td>\n",
       "      <td>equation</td>\n",
       "      <td>control</td>\n",
       "      <td>estimator</td>\n",
       "    </tr>\n",
       "    <tr>\n",
       "      <th>3</th>\n",
       "      <td>text</td>\n",
       "      <td>video</td>\n",
       "      <td>use</td>\n",
       "      <td>equilibrium</td>\n",
       "      <td>learn</td>\n",
       "      <td>problem</td>\n",
       "      <td>use</td>\n",
       "      <td>user</td>\n",
       "      <td>use</td>\n",
       "      <td>performance</td>\n",
       "      <td>network</td>\n",
       "      <td>scheme</td>\n",
       "      <td>algorithm</td>\n",
       "      <td>sample</td>\n",
       "    </tr>\n",
       "    <tr>\n",
       "      <th>4</th>\n",
       "      <td>speech</td>\n",
       "      <td>object</td>\n",
       "      <td>bias</td>\n",
       "      <td>strategy</td>\n",
       "      <td>datum</td>\n",
       "      <td>base</td>\n",
       "      <td>environment</td>\n",
       "      <td>node</td>\n",
       "      <td>propose</td>\n",
       "      <td>datum</td>\n",
       "      <td>use</td>\n",
       "      <td>error</td>\n",
       "      <td>optimal</td>\n",
       "      <td>study</td>\n",
       "    </tr>\n",
       "  </tbody>\n",
       "</table>\n",
       "</div>"
      ],
      "text/plain": [
       "  Computation and Language Computer Vision and Pattern Recognition  \\\n",
       "0                    model                                   image   \n",
       "1                 language                                 dataset   \n",
       "2                     task                                  method   \n",
       "3                     text                                   video   \n",
       "4                   speech                                  object   \n",
       "\n",
       "  Computers and Society Computer Science and Game Theory Machine Learning  \\\n",
       "0                 datum                             game         learning   \n",
       "1              fairness                            agent           neural   \n",
       "2                    ai                        mechanism            model   \n",
       "3                   use                      equilibrium            learn   \n",
       "4                  bias                         strategy            datum   \n",
       "\n",
       "  Multiagent Systems     Robotics Social and Information Networks  \\\n",
       "0              agent        robot                         network   \n",
       "1              multi         task                           graph   \n",
       "2             system      robotic                          social   \n",
       "3            problem          use                            user   \n",
       "4               base  environment                            node   \n",
       "\n",
       "  Audio and Speech Processing Signal Processing Systems and Control  \\\n",
       "0                      speech           propose              system   \n",
       "1                       model            signal             control   \n",
       "2                       audio              base             propose   \n",
       "3                         use       performance             network   \n",
       "4                     propose             datum                 use   \n",
       "\n",
       "  Numerical Analysis Optimization and Control Statistics Theory  \n",
       "0             method                  problem      distribution  \n",
       "1          numerical             optimization             datum  \n",
       "2           equation                  control         estimator  \n",
       "3             scheme                algorithm            sample  \n",
       "4              error                  optimal             study  "
      ]
     },
     "execution_count": 118,
     "metadata": {},
     "output_type": "execute_result"
    },
    {
     "data": {
      "image/png": "[encoded data removed]",
      "text/plain": [
       "<Figure size 1000x4800 with 1 Axes>"
      ]
     },
     "metadata": {},
     "output_type": "display_data"
    }
   ],
   "source": [
    "import matplotlib.pyplot as plt\n",
    "\n",
    "n_categories = 14\n",
    "feature_names = vectorizer.get_feature_names_out()\n",
    "\n",
    "average_feature_effects = [\n",
    "    (clf.estimators_[i].coef_ * np.asarray(X_train_tfidf.mean(axis=0)).ravel())\n",
    "    for i in range(n_categories)\n",
    "]\n",
    "\n",
    "for i, label in enumerate(labels):\n",
    "    top5 = np.argsort(average_feature_effects[i][0])[-5:][::-1]\n",
    "    if i == 0:\n",
    "        top = pd.DataFrame(feature_names[top5], columns=[taxonomy[label]])\n",
    "        top_indices = top5\n",
    "    else:\n",
    "        top[taxonomy[label]] = feature_names[top5]\n",
    "        top_indices = np.concatenate((top_indices, top5), axis=None)\n",
    "top_indices = np.unique(top_indices)\n",
    "predictive_words = feature_names[top_indices]\n",
    "\n",
    "# plot feature effects\n",
    "bar_size = 0.25\n",
    "padding = 0.75\n",
    "y_locs = np.arange(len(top_indices)) * (n_categories * bar_size + padding)\n",
    "\n",
    "fig, ax = plt.subplots(figsize=(10, 48))\n",
    "for i, label in enumerate(labels):\n",
    "    _ = ax.barh(\n",
    "        y_locs + (i - n_categories / 2) * bar_size,\n",
    "        average_feature_effects[i][0][top_indices],\n",
    "        height=bar_size,\n",
    "        label=taxonomy[label],\n",
    "    )\n",
    "    _ = ax.set(\n",
    "        yticks=y_locs,\n",
    "        yticklabels=predictive_words,\n",
    "        ylim=[\n",
    "            0 - n_categories * bar_size,\n",
    "            len(top_indices) * (n_categories * bar_size + padding) - n_categories * bar_size,\n",
    "        ],\n",
    "    )\n",
    "    _ = ax.legend(loc=\"lower right\")\n",
    "    _ = ax.set_title(\"Average Feature Effects on Training Data\")\n",
    "\n",
    "fig.show()\n",
    "fig.savefig(FIGUREFOLDER / \"feature-importance-tfidf.png\")\n",
    "\n",
    "top"
   ]
  }
 ],
 "metadata": {
  "kernelspec": {
   "display_name": "arxiv-article-classifier-IjPt3q2a-py3.10",
   "language": "python",
   "name": "python3"
  },
  "language_info": {
   "codemirror_mode": {
    "name": "ipython",
    "version": 3
   },
   "file_extension": ".py",
   "mimetype": "text/x-python",
   "name": "python",
   "nbconvert_exporter": "python",
   "pygments_lexer": "ipython3",
   "version": "3.10.12"
  },
  "orig_nbformat": 4
 },
 "nbformat": 4,
 "nbformat_minor": 2
}
